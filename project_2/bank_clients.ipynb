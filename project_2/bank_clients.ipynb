{
 "cells": [
  {
   "cell_type": "markdown",
   "metadata": {},
   "source": [
    "# Проект: Анализ оттока клиентов банка"
   ]
  },
  {
   "cell_type": "markdown",
   "metadata": {},
   "source": [
    "# Описание проект:\n",
    "\n",
    "\n",
    "**Колонки:**\n",
    "\n",
    "**USERID** — идентификатор пользователя,\n",
    "\n",
    "**score** — баллы кредитного скоринга,\n",
    "\n",
    "**city** — город,\n",
    "\n",
    "**gender** — пол,\n",
    "\n",
    "**age** — возраст,\n",
    "\n",
    "**equity** — количество баллов собственности\n",
    "\n",
    "**balance** — баланс на счёте,\n",
    "\n",
    "**products** — количество продуктов, которыми пользуется клиент,\n",
    "\n",
    "**credit_card** — есть ли кредитная карта,\n",
    "\n",
    "**last_activity** — активный клиент,\n",
    "\n",
    "**est_salary** — оценочный доход клиента,\n",
    "\n",
    "**сhurn** — признак оттока."
   ]
  },
  {
   "cell_type": "markdown",
   "metadata": {},
   "source": [
    "# Задача проекта:\n",
    "\n",
    "**Проанализируйте клиентов регионального банка и выделите сегменты клиентов, которые склонны уходить из банка.**\n",
    "\n",
    "Проведите исследовательский анализ данных, определите все значимые признаки отточности (интервалы значений характеристик, которые связаны с повышенным оттоком, сравните портреты типичных клиентов, которые склонны и не склонны уходить из банка и т.д)\n",
    "\n",
    "Сформулируйте и проверьте статистические гипотезы.\n",
    "\n",
    "Проверьте гипотезу различия дохода между теми клиентами, которые ушли и теми, которые остались.\n",
    "\n",
    "Сформулируйте и проверьте статистическую гипотезу относительно представленных данных, которая поможет внести ясность в исследование.\n",
    "\n",
    "Объединяя признаки отточности, сформируйте сегменты, отберите из них лучшие и дайте по ним рекомендации"
   ]
  },
  {
   "cell_type": "markdown",
   "metadata": {},
   "source": [
    "# Ход работы(декомпозиция):\n",
    "\n",
    "**1. Загрузка и ознакомление с данными.**\n",
    "\n",
    "**2. Подготовка и предобработка данных.**\n",
    "- Проверка на наличие пропусков.\n",
    "- Проверка на наличие явных и неявных дубликатов.\n",
    "- Проверка исправности в названиях колонок и соблюдение типов данных.\n",
    "- Кодирование, необходимый в анализе корреляции\n",
    "\n",
    "**3. Исследовательский анализ данных(EDA).**\n",
    "- Построение и анализ распределения оттока по признакам.\n",
    "- Корреляционный анализ.\n",
    "\n",
    "**4. Составление и проверка статистических гипотез.**\n",
    "- Составление гипотез и теоретическое обосвание для дальнейших проверок.\n",
    "- Проверка гипотез.\n",
    "\n",
    "**5. Подведение промежуточных выводов.**\n",
    "- Вывод по полученным результатам их 3 и 4 пункта, написание набросков по портретам клиентов, имеющие свойство оттока.\n",
    "\n",
    "**6. Сегментация.**\n",
    "- Группировка клиентов по признакам, имеющие отток лучше, чем средний уровень оттока по банку(в группе более 500 клиентов, 2-3 признака).\n",
    "\n",
    "**7. Приоритизация сегментов.**\n",
    "- Сортировка созданных групп(сегментов) по важности для банка, отдела маркетинга. По проценту оттока.\n",
    "\n",
    "**8. Формирование общего вывода и ремендаций для отдела маркетинга.**"
   ]
  },
  {
   "cell_type": "markdown",
   "metadata": {},
   "source": [
    "## Загрузка и ознакомление с данными"
   ]
  },
  {
   "cell_type": "markdown",
   "metadata": {},
   "source": [
    "### Импортирование библиотек"
   ]
  },
  {
   "cell_type": "code",
   "execution_count": 1,
   "metadata": {},
   "outputs": [],
   "source": [
    "import pandas as pd\n",
    "import numpy as np\n",
    "import seaborn as sns\n",
    "import datetime as dt\n",
    "from scipy import stats as st\n",
    "import math as mth\n",
    "import plotly.express as px\n",
    "import matplotlib.pyplot as plt\n",
    "from matplotlib import pyplot as plt\n",
    "from plotly import graph_objects as go\n",
    "\n",
    "try:\n",
    "    import phik\n",
    "except:\n",
    "    !pip install phik -q\n",
    "\n",
    "    \n",
    "import phik\n",
    "from phik import phik_matrix"
   ]
  },
  {
   "cell_type": "code",
   "execution_count": 2,
   "metadata": {},
   "outputs": [],
   "source": [
    "df = pd.read_csv('/datasets/bank_scrooge.csv')"
   ]
  },
  {
   "cell_type": "code",
   "execution_count": 3,
   "metadata": {},
   "outputs": [
    {
     "data": {
      "text/html": [
       "<div>\n",
       "<style scoped>\n",
       "    .dataframe tbody tr th:only-of-type {\n",
       "        vertical-align: middle;\n",
       "    }\n",
       "\n",
       "    .dataframe tbody tr th {\n",
       "        vertical-align: top;\n",
       "    }\n",
       "\n",
       "    .dataframe thead th {\n",
       "        text-align: right;\n",
       "    }\n",
       "</style>\n",
       "<table border=\"1\" class=\"dataframe\">\n",
       "  <thead>\n",
       "    <tr style=\"text-align: right;\">\n",
       "      <th></th>\n",
       "      <th>USERID</th>\n",
       "      <th>score</th>\n",
       "      <th>city</th>\n",
       "      <th>gender</th>\n",
       "      <th>age</th>\n",
       "      <th>equity</th>\n",
       "      <th>balance</th>\n",
       "      <th>products</th>\n",
       "      <th>credit_card</th>\n",
       "      <th>last_activity</th>\n",
       "      <th>EST_SALARY</th>\n",
       "      <th>churn</th>\n",
       "    </tr>\n",
       "  </thead>\n",
       "  <tbody>\n",
       "    <tr>\n",
       "      <th>0</th>\n",
       "      <td>183012</td>\n",
       "      <td>850.0</td>\n",
       "      <td>Рыбинск</td>\n",
       "      <td>Ж</td>\n",
       "      <td>25.0</td>\n",
       "      <td>1</td>\n",
       "      <td>59214.82</td>\n",
       "      <td>2</td>\n",
       "      <td>0</td>\n",
       "      <td>1</td>\n",
       "      <td>75719.14</td>\n",
       "      <td>1</td>\n",
       "    </tr>\n",
       "    <tr>\n",
       "      <th>1</th>\n",
       "      <td>146556</td>\n",
       "      <td>861.0</td>\n",
       "      <td>Рыбинск</td>\n",
       "      <td>Ж</td>\n",
       "      <td>37.0</td>\n",
       "      <td>5</td>\n",
       "      <td>850594.33</td>\n",
       "      <td>3</td>\n",
       "      <td>1</td>\n",
       "      <td>0</td>\n",
       "      <td>86621.77</td>\n",
       "      <td>0</td>\n",
       "    </tr>\n",
       "    <tr>\n",
       "      <th>2</th>\n",
       "      <td>120722</td>\n",
       "      <td>892.0</td>\n",
       "      <td>Рыбинск</td>\n",
       "      <td>Ж</td>\n",
       "      <td>30.0</td>\n",
       "      <td>0</td>\n",
       "      <td>NaN</td>\n",
       "      <td>1</td>\n",
       "      <td>1</td>\n",
       "      <td>1</td>\n",
       "      <td>107683.34</td>\n",
       "      <td>0</td>\n",
       "    </tr>\n",
       "    <tr>\n",
       "      <th>3</th>\n",
       "      <td>225363</td>\n",
       "      <td>866.0</td>\n",
       "      <td>Ярославль</td>\n",
       "      <td>Ж</td>\n",
       "      <td>51.0</td>\n",
       "      <td>5</td>\n",
       "      <td>1524746.26</td>\n",
       "      <td>2</td>\n",
       "      <td>0</td>\n",
       "      <td>1</td>\n",
       "      <td>174423.53</td>\n",
       "      <td>1</td>\n",
       "    </tr>\n",
       "    <tr>\n",
       "      <th>4</th>\n",
       "      <td>157978</td>\n",
       "      <td>730.0</td>\n",
       "      <td>Ярославль</td>\n",
       "      <td>М</td>\n",
       "      <td>34.0</td>\n",
       "      <td>5</td>\n",
       "      <td>174.00</td>\n",
       "      <td>1</td>\n",
       "      <td>1</td>\n",
       "      <td>0</td>\n",
       "      <td>67353.16</td>\n",
       "      <td>1</td>\n",
       "    </tr>\n",
       "  </tbody>\n",
       "</table>\n",
       "</div>"
      ],
      "text/plain": [
       "   USERID  score       city gender   age  equity     balance  products  \\\n",
       "0  183012  850.0    Рыбинск      Ж  25.0       1    59214.82         2   \n",
       "1  146556  861.0    Рыбинск      Ж  37.0       5   850594.33         3   \n",
       "2  120722  892.0    Рыбинск      Ж  30.0       0         NaN         1   \n",
       "3  225363  866.0  Ярославль      Ж  51.0       5  1524746.26         2   \n",
       "4  157978  730.0  Ярославль      М  34.0       5      174.00         1   \n",
       "\n",
       "   credit_card  last_activity  EST_SALARY  churn  \n",
       "0            0              1    75719.14      1  \n",
       "1            1              0    86621.77      0  \n",
       "2            1              1   107683.34      0  \n",
       "3            0              1   174423.53      1  \n",
       "4            1              0    67353.16      1  "
      ]
     },
     "execution_count": 3,
     "metadata": {},
     "output_type": "execute_result"
    }
   ],
   "source": [
    "df.head(5)"
   ]
  },
  {
   "cell_type": "code",
   "execution_count": 4,
   "metadata": {},
   "outputs": [
    {
     "name": "stdout",
     "output_type": "stream",
     "text": [
      "<class 'pandas.core.frame.DataFrame'>\n",
      "RangeIndex: 10000 entries, 0 to 9999\n",
      "Data columns (total 12 columns):\n",
      " #   Column         Non-Null Count  Dtype  \n",
      "---  ------         --------------  -----  \n",
      " 0   USERID         10000 non-null  int64  \n",
      " 1   score          10000 non-null  float64\n",
      " 2   city           10000 non-null  object \n",
      " 3   gender         10000 non-null  object \n",
      " 4   age            9974 non-null   float64\n",
      " 5   equity         10000 non-null  int64  \n",
      " 6   balance        7705 non-null   float64\n",
      " 7   products       10000 non-null  int64  \n",
      " 8   credit_card    10000 non-null  int64  \n",
      " 9   last_activity  10000 non-null  int64  \n",
      " 10  EST_SALARY     10000 non-null  float64\n",
      " 11  churn          10000 non-null  int64  \n",
      "dtypes: float64(4), int64(6), object(2)\n",
      "memory usage: 937.6+ KB\n"
     ]
    }
   ],
   "source": [
    "df.info()"
   ]
  },
  {
   "cell_type": "code",
   "execution_count": 5,
   "metadata": {},
   "outputs": [
    {
     "data": {
      "text/html": [
       "<div>\n",
       "<style scoped>\n",
       "    .dataframe tbody tr th:only-of-type {\n",
       "        vertical-align: middle;\n",
       "    }\n",
       "\n",
       "    .dataframe tbody tr th {\n",
       "        vertical-align: top;\n",
       "    }\n",
       "\n",
       "    .dataframe thead th {\n",
       "        text-align: right;\n",
       "    }\n",
       "</style>\n",
       "<table border=\"1\" class=\"dataframe\">\n",
       "  <thead>\n",
       "    <tr style=\"text-align: right;\">\n",
       "      <th></th>\n",
       "      <th>USERID</th>\n",
       "      <th>score</th>\n",
       "      <th>age</th>\n",
       "      <th>equity</th>\n",
       "      <th>balance</th>\n",
       "      <th>products</th>\n",
       "      <th>credit_card</th>\n",
       "      <th>last_activity</th>\n",
       "      <th>EST_SALARY</th>\n",
       "      <th>churn</th>\n",
       "    </tr>\n",
       "  </thead>\n",
       "  <tbody>\n",
       "    <tr>\n",
       "      <th>count</th>\n",
       "      <td>10000.00000</td>\n",
       "      <td>10000.000000</td>\n",
       "      <td>9974.000000</td>\n",
       "      <td>10000.000000</td>\n",
       "      <td>7.705000e+03</td>\n",
       "      <td>10000.000000</td>\n",
       "      <td>10000.000000</td>\n",
       "      <td>10000.000000</td>\n",
       "      <td>1.000000e+04</td>\n",
       "      <td>10000.000000</td>\n",
       "    </tr>\n",
       "    <tr>\n",
       "      <th>mean</th>\n",
       "      <td>171814.71260</td>\n",
       "      <td>848.699400</td>\n",
       "      <td>42.734409</td>\n",
       "      <td>2.627600</td>\n",
       "      <td>8.277943e+05</td>\n",
       "      <td>1.870100</td>\n",
       "      <td>0.680400</td>\n",
       "      <td>0.523500</td>\n",
       "      <td>1.478669e+05</td>\n",
       "      <td>0.182000</td>\n",
       "    </tr>\n",
       "    <tr>\n",
       "      <th>std</th>\n",
       "      <td>33708.23812</td>\n",
       "      <td>65.448519</td>\n",
       "      <td>12.179971</td>\n",
       "      <td>1.980836</td>\n",
       "      <td>1.980614e+06</td>\n",
       "      <td>0.792647</td>\n",
       "      <td>0.466345</td>\n",
       "      <td>0.499472</td>\n",
       "      <td>1.393885e+05</td>\n",
       "      <td>0.385864</td>\n",
       "    </tr>\n",
       "    <tr>\n",
       "      <th>min</th>\n",
       "      <td>94561.00000</td>\n",
       "      <td>642.000000</td>\n",
       "      <td>18.000000</td>\n",
       "      <td>0.000000</td>\n",
       "      <td>0.000000e+00</td>\n",
       "      <td>0.000000</td>\n",
       "      <td>0.000000</td>\n",
       "      <td>0.000000</td>\n",
       "      <td>2.546300e+03</td>\n",
       "      <td>0.000000</td>\n",
       "    </tr>\n",
       "    <tr>\n",
       "      <th>25%</th>\n",
       "      <td>142810.25000</td>\n",
       "      <td>802.000000</td>\n",
       "      <td>33.000000</td>\n",
       "      <td>0.000000</td>\n",
       "      <td>2.955542e+05</td>\n",
       "      <td>1.000000</td>\n",
       "      <td>0.000000</td>\n",
       "      <td>0.000000</td>\n",
       "      <td>7.525190e+04</td>\n",
       "      <td>0.000000</td>\n",
       "    </tr>\n",
       "    <tr>\n",
       "      <th>50%</th>\n",
       "      <td>172728.00000</td>\n",
       "      <td>853.000000</td>\n",
       "      <td>40.000000</td>\n",
       "      <td>3.000000</td>\n",
       "      <td>5.242722e+05</td>\n",
       "      <td>2.000000</td>\n",
       "      <td>1.000000</td>\n",
       "      <td>1.000000</td>\n",
       "      <td>1.196581e+05</td>\n",
       "      <td>0.000000</td>\n",
       "    </tr>\n",
       "    <tr>\n",
       "      <th>75%</th>\n",
       "      <td>201261.75000</td>\n",
       "      <td>900.000000</td>\n",
       "      <td>51.000000</td>\n",
       "      <td>4.000000</td>\n",
       "      <td>9.807058e+05</td>\n",
       "      <td>2.000000</td>\n",
       "      <td>1.000000</td>\n",
       "      <td>1.000000</td>\n",
       "      <td>1.745005e+05</td>\n",
       "      <td>0.000000</td>\n",
       "    </tr>\n",
       "    <tr>\n",
       "      <th>max</th>\n",
       "      <td>229145.00000</td>\n",
       "      <td>1000.000000</td>\n",
       "      <td>86.000000</td>\n",
       "      <td>9.000000</td>\n",
       "      <td>1.191136e+08</td>\n",
       "      <td>5.000000</td>\n",
       "      <td>1.000000</td>\n",
       "      <td>1.000000</td>\n",
       "      <td>1.395064e+06</td>\n",
       "      <td>1.000000</td>\n",
       "    </tr>\n",
       "  </tbody>\n",
       "</table>\n",
       "</div>"
      ],
      "text/plain": [
       "             USERID         score          age        equity       balance  \\\n",
       "count   10000.00000  10000.000000  9974.000000  10000.000000  7.705000e+03   \n",
       "mean   171814.71260    848.699400    42.734409      2.627600  8.277943e+05   \n",
       "std     33708.23812     65.448519    12.179971      1.980836  1.980614e+06   \n",
       "min     94561.00000    642.000000    18.000000      0.000000  0.000000e+00   \n",
       "25%    142810.25000    802.000000    33.000000      0.000000  2.955542e+05   \n",
       "50%    172728.00000    853.000000    40.000000      3.000000  5.242722e+05   \n",
       "75%    201261.75000    900.000000    51.000000      4.000000  9.807058e+05   \n",
       "max    229145.00000   1000.000000    86.000000      9.000000  1.191136e+08   \n",
       "\n",
       "           products   credit_card  last_activity    EST_SALARY         churn  \n",
       "count  10000.000000  10000.000000   10000.000000  1.000000e+04  10000.000000  \n",
       "mean       1.870100      0.680400       0.523500  1.478669e+05      0.182000  \n",
       "std        0.792647      0.466345       0.499472  1.393885e+05      0.385864  \n",
       "min        0.000000      0.000000       0.000000  2.546300e+03      0.000000  \n",
       "25%        1.000000      0.000000       0.000000  7.525190e+04      0.000000  \n",
       "50%        2.000000      1.000000       1.000000  1.196581e+05      0.000000  \n",
       "75%        2.000000      1.000000       1.000000  1.745005e+05      0.000000  \n",
       "max        5.000000      1.000000       1.000000  1.395064e+06      1.000000  "
      ]
     },
     "execution_count": 5,
     "metadata": {},
     "output_type": "execute_result"
    }
   ],
   "source": [
    "df.describe()"
   ]
  },
  {
   "cell_type": "markdown",
   "metadata": {},
   "source": [
    "**Данный датасет имеет 12 столбцов, 10000 строк. Имеются пропуски, с которыми необходимо разобраться, а именно определить их природу возникновения и прийти к верному решению. Необходимо отредактировать наименования столбцов по нормам.**"
   ]
  },
  {
   "cell_type": "markdown",
   "metadata": {},
   "source": [
    "## Подготовка и предобработка данных"
   ]
  },
  {
   "cell_type": "markdown",
   "metadata": {},
   "source": [
    "### Изменение наименования столбцов"
   ]
  },
  {
   "cell_type": "code",
   "execution_count": 6,
   "metadata": {},
   "outputs": [
    {
     "data": {
      "text/html": [
       "<div>\n",
       "<style scoped>\n",
       "    .dataframe tbody tr th:only-of-type {\n",
       "        vertical-align: middle;\n",
       "    }\n",
       "\n",
       "    .dataframe tbody tr th {\n",
       "        vertical-align: top;\n",
       "    }\n",
       "\n",
       "    .dataframe thead th {\n",
       "        text-align: right;\n",
       "    }\n",
       "</style>\n",
       "<table border=\"1\" class=\"dataframe\">\n",
       "  <thead>\n",
       "    <tr style=\"text-align: right;\">\n",
       "      <th></th>\n",
       "      <th>user_id</th>\n",
       "      <th>score</th>\n",
       "      <th>city</th>\n",
       "      <th>gender</th>\n",
       "      <th>age</th>\n",
       "      <th>equity</th>\n",
       "      <th>balance</th>\n",
       "      <th>products</th>\n",
       "      <th>credit_card</th>\n",
       "      <th>last_activity</th>\n",
       "      <th>est_salary</th>\n",
       "      <th>churn</th>\n",
       "    </tr>\n",
       "  </thead>\n",
       "  <tbody>\n",
       "    <tr>\n",
       "      <th>0</th>\n",
       "      <td>183012</td>\n",
       "      <td>850.0</td>\n",
       "      <td>Рыбинск</td>\n",
       "      <td>Ж</td>\n",
       "      <td>25.0</td>\n",
       "      <td>1</td>\n",
       "      <td>59214.82</td>\n",
       "      <td>2</td>\n",
       "      <td>0</td>\n",
       "      <td>1</td>\n",
       "      <td>75719.14</td>\n",
       "      <td>1</td>\n",
       "    </tr>\n",
       "    <tr>\n",
       "      <th>1</th>\n",
       "      <td>146556</td>\n",
       "      <td>861.0</td>\n",
       "      <td>Рыбинск</td>\n",
       "      <td>Ж</td>\n",
       "      <td>37.0</td>\n",
       "      <td>5</td>\n",
       "      <td>850594.33</td>\n",
       "      <td>3</td>\n",
       "      <td>1</td>\n",
       "      <td>0</td>\n",
       "      <td>86621.77</td>\n",
       "      <td>0</td>\n",
       "    </tr>\n",
       "    <tr>\n",
       "      <th>2</th>\n",
       "      <td>120722</td>\n",
       "      <td>892.0</td>\n",
       "      <td>Рыбинск</td>\n",
       "      <td>Ж</td>\n",
       "      <td>30.0</td>\n",
       "      <td>0</td>\n",
       "      <td>NaN</td>\n",
       "      <td>1</td>\n",
       "      <td>1</td>\n",
       "      <td>1</td>\n",
       "      <td>107683.34</td>\n",
       "      <td>0</td>\n",
       "    </tr>\n",
       "    <tr>\n",
       "      <th>3</th>\n",
       "      <td>225363</td>\n",
       "      <td>866.0</td>\n",
       "      <td>Ярославль</td>\n",
       "      <td>Ж</td>\n",
       "      <td>51.0</td>\n",
       "      <td>5</td>\n",
       "      <td>1524746.26</td>\n",
       "      <td>2</td>\n",
       "      <td>0</td>\n",
       "      <td>1</td>\n",
       "      <td>174423.53</td>\n",
       "      <td>1</td>\n",
       "    </tr>\n",
       "    <tr>\n",
       "      <th>4</th>\n",
       "      <td>157978</td>\n",
       "      <td>730.0</td>\n",
       "      <td>Ярославль</td>\n",
       "      <td>М</td>\n",
       "      <td>34.0</td>\n",
       "      <td>5</td>\n",
       "      <td>174.00</td>\n",
       "      <td>1</td>\n",
       "      <td>1</td>\n",
       "      <td>0</td>\n",
       "      <td>67353.16</td>\n",
       "      <td>1</td>\n",
       "    </tr>\n",
       "    <tr>\n",
       "      <th>...</th>\n",
       "      <td>...</td>\n",
       "      <td>...</td>\n",
       "      <td>...</td>\n",
       "      <td>...</td>\n",
       "      <td>...</td>\n",
       "      <td>...</td>\n",
       "      <td>...</td>\n",
       "      <td>...</td>\n",
       "      <td>...</td>\n",
       "      <td>...</td>\n",
       "      <td>...</td>\n",
       "      <td>...</td>\n",
       "    </tr>\n",
       "    <tr>\n",
       "      <th>9995</th>\n",
       "      <td>120553</td>\n",
       "      <td>814.0</td>\n",
       "      <td>Рыбинск</td>\n",
       "      <td>М</td>\n",
       "      <td>27.0</td>\n",
       "      <td>1</td>\n",
       "      <td>78144.65</td>\n",
       "      <td>1</td>\n",
       "      <td>0</td>\n",
       "      <td>1</td>\n",
       "      <td>18943.64</td>\n",
       "      <td>0</td>\n",
       "    </tr>\n",
       "    <tr>\n",
       "      <th>9996</th>\n",
       "      <td>139170</td>\n",
       "      <td>894.0</td>\n",
       "      <td>Ярославль</td>\n",
       "      <td>М</td>\n",
       "      <td>46.0</td>\n",
       "      <td>0</td>\n",
       "      <td>NaN</td>\n",
       "      <td>1</td>\n",
       "      <td>1</td>\n",
       "      <td>0</td>\n",
       "      <td>196898.29</td>\n",
       "      <td>0</td>\n",
       "    </tr>\n",
       "    <tr>\n",
       "      <th>9997</th>\n",
       "      <td>115639</td>\n",
       "      <td>903.0</td>\n",
       "      <td>Ярославль</td>\n",
       "      <td>М</td>\n",
       "      <td>24.0</td>\n",
       "      <td>0</td>\n",
       "      <td>NaN</td>\n",
       "      <td>2</td>\n",
       "      <td>1</td>\n",
       "      <td>1</td>\n",
       "      <td>108905.09</td>\n",
       "      <td>0</td>\n",
       "    </tr>\n",
       "    <tr>\n",
       "      <th>9998</th>\n",
       "      <td>148700</td>\n",
       "      <td>777.0</td>\n",
       "      <td>Ярославль</td>\n",
       "      <td>Ж</td>\n",
       "      <td>68.0</td>\n",
       "      <td>3</td>\n",
       "      <td>865457.97</td>\n",
       "      <td>3</td>\n",
       "      <td>0</td>\n",
       "      <td>1</td>\n",
       "      <td>86874.90</td>\n",
       "      <td>0</td>\n",
       "    </tr>\n",
       "    <tr>\n",
       "      <th>9999</th>\n",
       "      <td>96267</td>\n",
       "      <td>828.0</td>\n",
       "      <td>Рыбинск</td>\n",
       "      <td>Ж</td>\n",
       "      <td>58.0</td>\n",
       "      <td>3</td>\n",
       "      <td>1180886.70</td>\n",
       "      <td>4</td>\n",
       "      <td>0</td>\n",
       "      <td>1</td>\n",
       "      <td>21422.37</td>\n",
       "      <td>0</td>\n",
       "    </tr>\n",
       "  </tbody>\n",
       "</table>\n",
       "<p>10000 rows × 12 columns</p>\n",
       "</div>"
      ],
      "text/plain": [
       "      user_id  score       city gender   age  equity     balance  products  \\\n",
       "0      183012  850.0    Рыбинск      Ж  25.0       1    59214.82         2   \n",
       "1      146556  861.0    Рыбинск      Ж  37.0       5   850594.33         3   \n",
       "2      120722  892.0    Рыбинск      Ж  30.0       0         NaN         1   \n",
       "3      225363  866.0  Ярославль      Ж  51.0       5  1524746.26         2   \n",
       "4      157978  730.0  Ярославль      М  34.0       5      174.00         1   \n",
       "...       ...    ...        ...    ...   ...     ...         ...       ...   \n",
       "9995   120553  814.0    Рыбинск      М  27.0       1    78144.65         1   \n",
       "9996   139170  894.0  Ярославль      М  46.0       0         NaN         1   \n",
       "9997   115639  903.0  Ярославль      М  24.0       0         NaN         2   \n",
       "9998   148700  777.0  Ярославль      Ж  68.0       3   865457.97         3   \n",
       "9999    96267  828.0    Рыбинск      Ж  58.0       3  1180886.70         4   \n",
       "\n",
       "      credit_card  last_activity  est_salary  churn  \n",
       "0               0              1    75719.14      1  \n",
       "1               1              0    86621.77      0  \n",
       "2               1              1   107683.34      0  \n",
       "3               0              1   174423.53      1  \n",
       "4               1              0    67353.16      1  \n",
       "...           ...            ...         ...    ...  \n",
       "9995            0              1    18943.64      0  \n",
       "9996            1              0   196898.29      0  \n",
       "9997            1              1   108905.09      0  \n",
       "9998            0              1    86874.90      0  \n",
       "9999            0              1    21422.37      0  \n",
       "\n",
       "[10000 rows x 12 columns]"
      ]
     },
     "execution_count": 6,
     "metadata": {},
     "output_type": "execute_result"
    }
   ],
   "source": [
    "df.columns = df.columns.str.lower()\n",
    "df = df.rename(columns={'userid': 'user_id'})\n",
    "df"
   ]
  },
  {
   "cell_type": "markdown",
   "metadata": {},
   "source": [
    "### Проверка на наличие пропусков"
   ]
  },
  {
   "cell_type": "code",
   "execution_count": 7,
   "metadata": {},
   "outputs": [
    {
     "data": {
      "text/plain": [
       "user_id             0\n",
       "score               0\n",
       "city                0\n",
       "gender              0\n",
       "age                26\n",
       "equity              0\n",
       "balance          2295\n",
       "products            0\n",
       "credit_card         0\n",
       "last_activity       0\n",
       "est_salary          0\n",
       "churn               0\n",
       "dtype: int64"
      ]
     },
     "execution_count": 7,
     "metadata": {},
     "output_type": "execute_result"
    }
   ],
   "source": [
    "df.isna().sum()"
   ]
  },
  {
   "cell_type": "code",
   "execution_count": 8,
   "metadata": {},
   "outputs": [
    {
     "data": {
      "text/plain": [
       "user_id           0.00\n",
       "score             0.00\n",
       "city              0.00\n",
       "gender            0.00\n",
       "age               0.26\n",
       "equity            0.00\n",
       "balance          22.95\n",
       "products          0.00\n",
       "credit_card       0.00\n",
       "last_activity     0.00\n",
       "est_salary        0.00\n",
       "churn             0.00\n",
       "dtype: float64"
      ]
     },
     "execution_count": 8,
     "metadata": {},
     "output_type": "execute_result"
    }
   ],
   "source": [
    "# найдём процент пропущенных значений в столбцах\n",
    "df.isna().sum()/len(df)*100"
   ]
  },
  {
   "cell_type": "markdown",
   "metadata": {},
   "source": [
    "**Процент пропущенных значение в столбце age составляет менее 5%, поэтому может оставить без изменений. А столбец balance, почти 23%. Поэтому выясним природу пропусков.**"
   ]
  },
  {
   "cell_type": "markdown",
   "metadata": {},
   "source": [
    "**Пропуски могут быть:**\n",
    "\n",
    "- MCAR (Missing Completely At Random / Отсутствует совершенно случайно) — пропуски не зависят от переменных и не ведут к систематической ошибке (смещение, bias), но увеличивают случайную ошибку (разброс, variance), можно их отбрасывать или заполнять, т.к. заполнение не повлияет на характер связи между заполняемой переменной и остальными;\n",
    "- MAR (Missing At Random / Отсутствует случайно) — в рамках каждой из групп, которая есть в описываемой данными совокупности, распределение пропусков случайно, можно их отбрасывать;\n",
    "- MNAR (Missing Not At Random / Отсутствует не случайно) — пропуски зависят от данных, без дополнительного обоснования их нельзя отбрасывать или заполнять одним значением, т.к. это приведёт к заметным искажениям.\n",
    "\n",
    "**Изучим более подробно пропуски в колонке balance для принятия решения. Для этого создадим новый признак, принимающий 1, если в наблюдении пропущено значение признака, и 0, если в наблюдении значение признака не пропущено.**"
   ]
  },
  {
   "cell_type": "code",
   "execution_count": 9,
   "metadata": {},
   "outputs": [],
   "source": [
    "df_bal=df.copy()"
   ]
  },
  {
   "cell_type": "code",
   "execution_count": 10,
   "metadata": {},
   "outputs": [],
   "source": [
    "df_bal['bal_pass'] = df_bal['balance'].isnull().astype(int)\n",
    "df_bal.drop('user_id', axis= 1 , inplace= True )"
   ]
  },
  {
   "cell_type": "code",
   "execution_count": 11,
   "metadata": {},
   "outputs": [],
   "source": [
    "continuous_signs = ['score', 'age', 'balance', 'est_salary']"
   ]
  },
  {
   "cell_type": "code",
   "execution_count": 12,
   "metadata": {},
   "outputs": [
    {
     "data": {
      "image/png": "[encoded data removed]",
      "text/plain": [
       "<Figure size 1080x720 with 2 Axes>"
      ]
     },
     "metadata": {
      "needs_background": "light"
     },
     "output_type": "display_data"
    }
   ],
   "source": [
    "fig, axes = plt.subplots(figsize=(15, 10))\n",
    "sns.heatmap(df_bal.phik_matrix(interval_cols = continuous_signs),\n",
    "            center=0,\n",
    "            annot = True,\n",
    "            fmt = '.2f',\n",
    "            cmap='coolwarm',\n",
    "            ax = axes)\n",
    "plt.title('Таблица корреляции')\n",
    "plt.show()"
   ]
  },
  {
   "cell_type": "markdown",
   "metadata": {},
   "source": [
    "#### ВЫВОД: По графику корреляци признаков видим что есть зависимость между пропусками в балансе и количеством баллов собственности(equity) . А так же присутсвует зависимость с количеством продуктов(products) и баллами кредитного скорринга(score). То есть, пропуски зависят от данных и их стоить оставить без изменений.\n",
    "\n",
    "Следовательно, пропуски относятся к MNAR (Missing Not At Random / Отсутствует не случайно) — пропуски зависят от данных, без дополнительного обоснования их нельзя отбрасывать или заполнять одним значением, т.к. это приведёт к заметным искажениям."
   ]
  },
  {
   "cell_type": "markdown",
   "metadata": {},
   "source": [
    "### Проверка на наличие явных и неявных дубликатов"
   ]
  },
  {
   "cell_type": "code",
   "execution_count": 13,
   "metadata": {},
   "outputs": [
    {
     "data": {
      "text/plain": [
       "0"
      ]
     },
     "execution_count": 13,
     "metadata": {},
     "output_type": "execute_result"
    }
   ],
   "source": [
    "# проверка на наличие явных дубликатов\n",
    "df.duplicated().sum()"
   ]
  },
  {
   "cell_type": "code",
   "execution_count": 14,
   "metadata": {},
   "outputs": [
    {
     "data": {
      "text/plain": [
       "73"
      ]
     },
     "execution_count": 14,
     "metadata": {},
     "output_type": "execute_result"
    }
   ],
   "source": [
    "# проверка на наличие неявных дубликатов\n",
    "df.duplicated(subset=['user_id']).sum()"
   ]
  },
  {
   "cell_type": "code",
   "execution_count": 15,
   "metadata": {},
   "outputs": [
    {
     "data": {
      "text/html": [
       "<div>\n",
       "<style scoped>\n",
       "    .dataframe tbody tr th:only-of-type {\n",
       "        vertical-align: middle;\n",
       "    }\n",
       "\n",
       "    .dataframe tbody tr th {\n",
       "        vertical-align: top;\n",
       "    }\n",
       "\n",
       "    .dataframe thead th {\n",
       "        text-align: right;\n",
       "    }\n",
       "</style>\n",
       "<table border=\"1\" class=\"dataframe\">\n",
       "  <thead>\n",
       "    <tr style=\"text-align: right;\">\n",
       "      <th></th>\n",
       "      <th>user_id</th>\n",
       "      <th>score</th>\n",
       "      <th>city</th>\n",
       "      <th>gender</th>\n",
       "      <th>age</th>\n",
       "      <th>equity</th>\n",
       "      <th>balance</th>\n",
       "      <th>products</th>\n",
       "      <th>credit_card</th>\n",
       "      <th>last_activity</th>\n",
       "      <th>est_salary</th>\n",
       "      <th>churn</th>\n",
       "    </tr>\n",
       "  </thead>\n",
       "  <tbody>\n",
       "    <tr>\n",
       "      <th>7</th>\n",
       "      <td>218868</td>\n",
       "      <td>825.0</td>\n",
       "      <td>Ярославль</td>\n",
       "      <td>Ж</td>\n",
       "      <td>38.0</td>\n",
       "      <td>4</td>\n",
       "      <td>458145.40</td>\n",
       "      <td>2</td>\n",
       "      <td>1</td>\n",
       "      <td>1</td>\n",
       "      <td>68085.48</td>\n",
       "      <td>0</td>\n",
       "    </tr>\n",
       "    <tr>\n",
       "      <th>58</th>\n",
       "      <td>164676</td>\n",
       "      <td>860.0</td>\n",
       "      <td>Ярославль</td>\n",
       "      <td>М</td>\n",
       "      <td>37.0</td>\n",
       "      <td>5</td>\n",
       "      <td>648594.03</td>\n",
       "      <td>2</td>\n",
       "      <td>1</td>\n",
       "      <td>1</td>\n",
       "      <td>213586.86</td>\n",
       "      <td>1</td>\n",
       "    </tr>\n",
       "    <tr>\n",
       "      <th>150</th>\n",
       "      <td>185748</td>\n",
       "      <td>850.0</td>\n",
       "      <td>Рыбинск</td>\n",
       "      <td>М</td>\n",
       "      <td>36.0</td>\n",
       "      <td>5</td>\n",
       "      <td>1203376.67</td>\n",
       "      <td>2</td>\n",
       "      <td>0</td>\n",
       "      <td>1</td>\n",
       "      <td>89401.82</td>\n",
       "      <td>1</td>\n",
       "    </tr>\n",
       "    <tr>\n",
       "      <th>161</th>\n",
       "      <td>197364</td>\n",
       "      <td>928.0</td>\n",
       "      <td>Рыбинск</td>\n",
       "      <td>Ж</td>\n",
       "      <td>53.0</td>\n",
       "      <td>6</td>\n",
       "      <td>1347183.86</td>\n",
       "      <td>2</td>\n",
       "      <td>0</td>\n",
       "      <td>1</td>\n",
       "      <td>168189.49</td>\n",
       "      <td>1</td>\n",
       "    </tr>\n",
       "    <tr>\n",
       "      <th>231</th>\n",
       "      <td>190253</td>\n",
       "      <td>823.0</td>\n",
       "      <td>Рыбинск</td>\n",
       "      <td>М</td>\n",
       "      <td>37.0</td>\n",
       "      <td>4</td>\n",
       "      <td>373348.39</td>\n",
       "      <td>2</td>\n",
       "      <td>0</td>\n",
       "      <td>1</td>\n",
       "      <td>131947.92</td>\n",
       "      <td>1</td>\n",
       "    </tr>\n",
       "    <tr>\n",
       "      <th>...</th>\n",
       "      <td>...</td>\n",
       "      <td>...</td>\n",
       "      <td>...</td>\n",
       "      <td>...</td>\n",
       "      <td>...</td>\n",
       "      <td>...</td>\n",
       "      <td>...</td>\n",
       "      <td>...</td>\n",
       "      <td>...</td>\n",
       "      <td>...</td>\n",
       "      <td>...</td>\n",
       "      <td>...</td>\n",
       "    </tr>\n",
       "    <tr>\n",
       "      <th>9775</th>\n",
       "      <td>124450</td>\n",
       "      <td>758.0</td>\n",
       "      <td>Рыбинск</td>\n",
       "      <td>Ж</td>\n",
       "      <td>36.0</td>\n",
       "      <td>0</td>\n",
       "      <td>73574.07</td>\n",
       "      <td>2</td>\n",
       "      <td>0</td>\n",
       "      <td>1</td>\n",
       "      <td>79963.59</td>\n",
       "      <td>0</td>\n",
       "    </tr>\n",
       "    <tr>\n",
       "      <th>9785</th>\n",
       "      <td>168998</td>\n",
       "      <td>895.0</td>\n",
       "      <td>Рыбинск</td>\n",
       "      <td>М</td>\n",
       "      <td>44.0</td>\n",
       "      <td>0</td>\n",
       "      <td>282653.53</td>\n",
       "      <td>3</td>\n",
       "      <td>0</td>\n",
       "      <td>0</td>\n",
       "      <td>255296.47</td>\n",
       "      <td>0</td>\n",
       "    </tr>\n",
       "    <tr>\n",
       "      <th>9819</th>\n",
       "      <td>140934</td>\n",
       "      <td>832.0</td>\n",
       "      <td>Рыбинск</td>\n",
       "      <td>Ж</td>\n",
       "      <td>NaN</td>\n",
       "      <td>3</td>\n",
       "      <td>385763.16</td>\n",
       "      <td>2</td>\n",
       "      <td>0</td>\n",
       "      <td>1</td>\n",
       "      <td>59651.35</td>\n",
       "      <td>0</td>\n",
       "    </tr>\n",
       "    <tr>\n",
       "      <th>9880</th>\n",
       "      <td>217412</td>\n",
       "      <td>886.0</td>\n",
       "      <td>Ярославль</td>\n",
       "      <td>Ж</td>\n",
       "      <td>35.0</td>\n",
       "      <td>3</td>\n",
       "      <td>1026172.14</td>\n",
       "      <td>2</td>\n",
       "      <td>1</td>\n",
       "      <td>0</td>\n",
       "      <td>53099.16</td>\n",
       "      <td>0</td>\n",
       "    </tr>\n",
       "    <tr>\n",
       "      <th>9970</th>\n",
       "      <td>175730</td>\n",
       "      <td>816.0</td>\n",
       "      <td>Рыбинск</td>\n",
       "      <td>М</td>\n",
       "      <td>36.0</td>\n",
       "      <td>4</td>\n",
       "      <td>477892.07</td>\n",
       "      <td>3</td>\n",
       "      <td>1</td>\n",
       "      <td>0</td>\n",
       "      <td>81100.60</td>\n",
       "      <td>0</td>\n",
       "    </tr>\n",
       "  </tbody>\n",
       "</table>\n",
       "<p>146 rows × 12 columns</p>\n",
       "</div>"
      ],
      "text/plain": [
       "      user_id  score       city gender   age  equity     balance  products  \\\n",
       "7      218868  825.0  Ярославль      Ж  38.0       4   458145.40         2   \n",
       "58     164676  860.0  Ярославль      М  37.0       5   648594.03         2   \n",
       "150    185748  850.0    Рыбинск      М  36.0       5  1203376.67         2   \n",
       "161    197364  928.0    Рыбинск      Ж  53.0       6  1347183.86         2   \n",
       "231    190253  823.0    Рыбинск      М  37.0       4   373348.39         2   \n",
       "...       ...    ...        ...    ...   ...     ...         ...       ...   \n",
       "9775   124450  758.0    Рыбинск      Ж  36.0       0    73574.07         2   \n",
       "9785   168998  895.0    Рыбинск      М  44.0       0   282653.53         3   \n",
       "9819   140934  832.0    Рыбинск      Ж   NaN       3   385763.16         2   \n",
       "9880   217412  886.0  Ярославль      Ж  35.0       3  1026172.14         2   \n",
       "9970   175730  816.0    Рыбинск      М  36.0       4   477892.07         3   \n",
       "\n",
       "      credit_card  last_activity  est_salary  churn  \n",
       "7               1              1    68085.48      0  \n",
       "58              1              1   213586.86      1  \n",
       "150             0              1    89401.82      1  \n",
       "161             0              1   168189.49      1  \n",
       "231             0              1   131947.92      1  \n",
       "...           ...            ...         ...    ...  \n",
       "9775            0              1    79963.59      0  \n",
       "9785            0              0   255296.47      0  \n",
       "9819            0              1    59651.35      0  \n",
       "9880            1              0    53099.16      0  \n",
       "9970            1              0    81100.60      0  \n",
       "\n",
       "[146 rows x 12 columns]"
      ]
     },
     "execution_count": 15,
     "metadata": {},
     "output_type": "execute_result"
    }
   ],
   "source": [
    "df[df.duplicated(subset = ['user_id'], keep = False)]"
   ]
  },
  {
   "cell_type": "code",
   "execution_count": 16,
   "metadata": {},
   "outputs": [
    {
     "data": {
      "text/html": [
       "<div>\n",
       "<style scoped>\n",
       "    .dataframe tbody tr th:only-of-type {\n",
       "        vertical-align: middle;\n",
       "    }\n",
       "\n",
       "    .dataframe tbody tr th {\n",
       "        vertical-align: top;\n",
       "    }\n",
       "\n",
       "    .dataframe thead th {\n",
       "        text-align: right;\n",
       "    }\n",
       "</style>\n",
       "<table border=\"1\" class=\"dataframe\">\n",
       "  <thead>\n",
       "    <tr style=\"text-align: right;\">\n",
       "      <th></th>\n",
       "      <th>user_id</th>\n",
       "      <th>score</th>\n",
       "      <th>city</th>\n",
       "      <th>gender</th>\n",
       "      <th>age</th>\n",
       "      <th>equity</th>\n",
       "      <th>balance</th>\n",
       "      <th>products</th>\n",
       "      <th>credit_card</th>\n",
       "      <th>last_activity</th>\n",
       "      <th>est_salary</th>\n",
       "      <th>churn</th>\n",
       "    </tr>\n",
       "  </thead>\n",
       "  <tbody>\n",
       "    <tr>\n",
       "      <th>7055</th>\n",
       "      <td>217412</td>\n",
       "      <td>879.0</td>\n",
       "      <td>Рыбинск</td>\n",
       "      <td>М</td>\n",
       "      <td>42.0</td>\n",
       "      <td>5</td>\n",
       "      <td>568140.15</td>\n",
       "      <td>3</td>\n",
       "      <td>0</td>\n",
       "      <td>0</td>\n",
       "      <td>231658.67</td>\n",
       "      <td>1</td>\n",
       "    </tr>\n",
       "    <tr>\n",
       "      <th>9880</th>\n",
       "      <td>217412</td>\n",
       "      <td>886.0</td>\n",
       "      <td>Ярославль</td>\n",
       "      <td>Ж</td>\n",
       "      <td>35.0</td>\n",
       "      <td>3</td>\n",
       "      <td>1026172.14</td>\n",
       "      <td>2</td>\n",
       "      <td>1</td>\n",
       "      <td>0</td>\n",
       "      <td>53099.16</td>\n",
       "      <td>0</td>\n",
       "    </tr>\n",
       "  </tbody>\n",
       "</table>\n",
       "</div>"
      ],
      "text/plain": [
       "      user_id  score       city gender   age  equity     balance  products  \\\n",
       "7055   217412  879.0    Рыбинск      М  42.0       5   568140.15         3   \n",
       "9880   217412  886.0  Ярославль      Ж  35.0       3  1026172.14         2   \n",
       "\n",
       "      credit_card  last_activity  est_salary  churn  \n",
       "7055            0              0   231658.67      1  \n",
       "9880            1              0    53099.16      0  "
      ]
     },
     "execution_count": 16,
     "metadata": {},
     "output_type": "execute_result"
    }
   ],
   "source": [
    "# рассмотрим отдельные примеры, для выяснения природы дубликатов\n",
    "df.loc[df['user_id'] == 217412]"
   ]
  },
  {
   "cell_type": "code",
   "execution_count": 17,
   "metadata": {},
   "outputs": [
    {
     "data": {
      "text/html": [
       "<div>\n",
       "<style scoped>\n",
       "    .dataframe tbody tr th:only-of-type {\n",
       "        vertical-align: middle;\n",
       "    }\n",
       "\n",
       "    .dataframe tbody tr th {\n",
       "        vertical-align: top;\n",
       "    }\n",
       "\n",
       "    .dataframe thead th {\n",
       "        text-align: right;\n",
       "    }\n",
       "</style>\n",
       "<table border=\"1\" class=\"dataframe\">\n",
       "  <thead>\n",
       "    <tr style=\"text-align: right;\">\n",
       "      <th></th>\n",
       "      <th>user_id</th>\n",
       "      <th>score</th>\n",
       "      <th>city</th>\n",
       "      <th>gender</th>\n",
       "      <th>age</th>\n",
       "      <th>equity</th>\n",
       "      <th>balance</th>\n",
       "      <th>products</th>\n",
       "      <th>credit_card</th>\n",
       "      <th>last_activity</th>\n",
       "      <th>est_salary</th>\n",
       "      <th>churn</th>\n",
       "    </tr>\n",
       "  </thead>\n",
       "  <tbody>\n",
       "    <tr>\n",
       "      <th>231</th>\n",
       "      <td>190253</td>\n",
       "      <td>823.0</td>\n",
       "      <td>Рыбинск</td>\n",
       "      <td>М</td>\n",
       "      <td>37.0</td>\n",
       "      <td>4</td>\n",
       "      <td>373348.39</td>\n",
       "      <td>2</td>\n",
       "      <td>0</td>\n",
       "      <td>1</td>\n",
       "      <td>131947.92</td>\n",
       "      <td>1</td>\n",
       "    </tr>\n",
       "    <tr>\n",
       "      <th>1583</th>\n",
       "      <td>190253</td>\n",
       "      <td>726.0</td>\n",
       "      <td>Ярославль</td>\n",
       "      <td>М</td>\n",
       "      <td>49.0</td>\n",
       "      <td>0</td>\n",
       "      <td>NaN</td>\n",
       "      <td>1</td>\n",
       "      <td>1</td>\n",
       "      <td>1</td>\n",
       "      <td>177700.78</td>\n",
       "      <td>0</td>\n",
       "    </tr>\n",
       "  </tbody>\n",
       "</table>\n",
       "</div>"
      ],
      "text/plain": [
       "      user_id  score       city gender   age  equity    balance  products  \\\n",
       "231    190253  823.0    Рыбинск      М  37.0       4  373348.39         2   \n",
       "1583   190253  726.0  Ярославль      М  49.0       0        NaN         1   \n",
       "\n",
       "      credit_card  last_activity  est_salary  churn  \n",
       "231             0              1   131947.92      1  \n",
       "1583            1              1   177700.78      0  "
      ]
     },
     "execution_count": 17,
     "metadata": {},
     "output_type": "execute_result"
    }
   ],
   "source": [
    "df.loc[df['user_id'] == 190253]"
   ]
  },
  {
   "cell_type": "code",
   "execution_count": 18,
   "metadata": {},
   "outputs": [
    {
     "data": {
      "text/html": [
       "<div>\n",
       "<style scoped>\n",
       "    .dataframe tbody tr th:only-of-type {\n",
       "        vertical-align: middle;\n",
       "    }\n",
       "\n",
       "    .dataframe tbody tr th {\n",
       "        vertical-align: top;\n",
       "    }\n",
       "\n",
       "    .dataframe thead th {\n",
       "        text-align: right;\n",
       "    }\n",
       "</style>\n",
       "<table border=\"1\" class=\"dataframe\">\n",
       "  <thead>\n",
       "    <tr style=\"text-align: right;\">\n",
       "      <th></th>\n",
       "      <th>user_id</th>\n",
       "      <th>score</th>\n",
       "      <th>city</th>\n",
       "      <th>gender</th>\n",
       "      <th>age</th>\n",
       "      <th>equity</th>\n",
       "      <th>balance</th>\n",
       "      <th>products</th>\n",
       "      <th>credit_card</th>\n",
       "      <th>last_activity</th>\n",
       "      <th>est_salary</th>\n",
       "      <th>churn</th>\n",
       "    </tr>\n",
       "  </thead>\n",
       "  <tbody>\n",
       "    <tr>\n",
       "      <th>58</th>\n",
       "      <td>164676</td>\n",
       "      <td>860.0</td>\n",
       "      <td>Ярославль</td>\n",
       "      <td>М</td>\n",
       "      <td>37.0</td>\n",
       "      <td>5</td>\n",
       "      <td>648594.03</td>\n",
       "      <td>2</td>\n",
       "      <td>1</td>\n",
       "      <td>1</td>\n",
       "      <td>213586.86</td>\n",
       "      <td>1</td>\n",
       "    </tr>\n",
       "    <tr>\n",
       "      <th>7271</th>\n",
       "      <td>164676</td>\n",
       "      <td>790.0</td>\n",
       "      <td>Рыбинск</td>\n",
       "      <td>Ж</td>\n",
       "      <td>77.0</td>\n",
       "      <td>1</td>\n",
       "      <td>111202.01</td>\n",
       "      <td>1</td>\n",
       "      <td>1</td>\n",
       "      <td>0</td>\n",
       "      <td>32835.45</td>\n",
       "      <td>0</td>\n",
       "    </tr>\n",
       "  </tbody>\n",
       "</table>\n",
       "</div>"
      ],
      "text/plain": [
       "      user_id  score       city gender   age  equity    balance  products  \\\n",
       "58     164676  860.0  Ярославль      М  37.0       5  648594.03         2   \n",
       "7271   164676  790.0    Рыбинск      Ж  77.0       1  111202.01         1   \n",
       "\n",
       "      credit_card  last_activity  est_salary  churn  \n",
       "58              1              1   213586.86      1  \n",
       "7271            1              0    32835.45      0  "
      ]
     },
     "execution_count": 18,
     "metadata": {},
     "output_type": "execute_result"
    }
   ],
   "source": [
    "df.loc[df['user_id'] == 164676]"
   ]
  },
  {
   "cell_type": "markdown",
   "metadata": {},
   "source": [
    "#### ВЫВОД: При проверки на наличие явных и неявных дубликатов, было получено. Отсутсвуют явные дубликаты, но присутсвуют неявные. После уточнения и выяснения их природы, было принято решение, оставить без изменений, так как эти неявные дубликаты не имеют схожести, только по user_id."
   ]
  },
  {
   "cell_type": "markdown",
   "metadata": {},
   "source": [
    "## Исследовательский анализ данных(EDA)"
   ]
  },
  {
   "cell_type": "markdown",
   "metadata": {},
   "source": [
    "### Распределение зависимости числовых признаков"
   ]
  },
  {
   "cell_type": "code",
   "execution_count": 19,
   "metadata": {},
   "outputs": [
    {
     "data": {
      "image/png": "[encoded data removed]",
      "text/plain": [
       "<Figure size 1080x720 with 1 Axes>"
      ]
     },
     "metadata": {
      "needs_background": "light"
     },
     "output_type": "display_data"
    }
   ],
   "source": [
    "# Распределение данных баллов кредитного скоринга\n",
    "fig, axs = plt.subplots(figsize=(15,10))\n",
    "sns.histplot(data=df, x='score', hue='churn', stat='density', common_norm=False, bins = 40)\n",
    "plt.xlabel('Количество баллов кредитного скоринга', size=15)\n",
    "plt.ylabel('Распределение', size=15)\n",
    "plt.title('Распределение данных баллов кредитного скоринга', size=15)\n",
    "plt.show()"
   ]
  },
  {
   "cell_type": "markdown",
   "metadata": {},
   "source": [
    "**По полученной визуализации заметен пик оттока у пользователей, имеющие количество баллов кредитного скоринга в диапазоне 820-900 баллов.**"
   ]
  },
  {
   "cell_type": "code",
   "execution_count": 20,
   "metadata": {},
   "outputs": [
    {
     "data": {
      "image/png": "[encoded data removed]",
      "text/plain": [
       "<Figure size 1080x720 with 1 Axes>"
      ]
     },
     "metadata": {
      "needs_background": "light"
     },
     "output_type": "display_data"
    }
   ],
   "source": [
    "# Распределение данных по возрасту\n",
    "fig, axs = plt.subplots(figsize=(15,10))\n",
    "sns.histplot(data=df, x='age', hue='churn', stat='density', common_norm=False, bins = 69, binwidth=1)\n",
    "plt.xlabel('Возраст', size=15)\n",
    "plt.ylabel('Распределение', size=15)\n",
    "plt.title('Распределение данных по возрасту', size=15)\n",
    "plt.show()"
   ]
  },
  {
   "cell_type": "markdown",
   "metadata": {},
   "source": [
    "**По данной визуализации заметы две группы пользователей, пребывающие в возрасте от 25 до 35 лет и 50 до 60.**"
   ]
  },
  {
   "cell_type": "code",
   "execution_count": 21,
   "metadata": {},
   "outputs": [
    {
     "data": {
      "image/png": "[encoded data removed]",
      "text/plain": [
       "<Figure size 1080x720 with 1 Axes>"
      ]
     },
     "metadata": {
      "needs_background": "light"
     },
     "output_type": "display_data"
    }
   ],
   "source": [
    "# Распределение по количеству баллов собственности\n",
    "fig, axs = plt.subplots(figsize=(15,10))\n",
    "sns.histplot(data=df, x='equity', hue='churn', stat='density', common_norm=False, bins = 20)\n",
    "plt.xlabel('Балл собственности', size=15)\n",
    "plt.ylabel('Распределение', size=15)\n",
    "plt.title('Распределение по количеству баллов собственности', size=15)\n",
    "plt.show()"
   ]
  },
  {
   "cell_type": "code",
   "execution_count": 22,
   "metadata": {},
   "outputs": [
    {
     "data": {
      "image/png": "[encoded data removed]",
      "text/plain": [
       "<Figure size 1080x720 with 1 Axes>"
      ]
     },
     "metadata": {
      "needs_background": "light"
     },
     "output_type": "display_data"
    }
   ],
   "source": [
    "# Распределение по количеству баллов собственности\n",
    "fig, ax = plt.subplots(figsize=(15, 10))\n",
    "df.groupby(['equity'])['churn'].mean().plot(kind='bar', ax=ax)\n",
    "churn_avg = df['churn'].mean()\n",
    "ax.axhline(churn_avg, color='r', linestyle='--')\n",
    "plt.xlabel('Балл собственности', size=15)\n",
    "plt.ylabel('Распределение', size=15)\n",
    "plt.title('Распределение по количеству баллов собственности', size=15)\n",
    "plt.show()"
   ]
  },
  {
   "cell_type": "markdown",
   "metadata": {},
   "source": [
    "**На данной диаграмме видим, что отток пользователей начинается с 3 баллов собственности до 9.**"
   ]
  },
  {
   "cell_type": "code",
   "execution_count": 23,
   "metadata": {},
   "outputs": [
    {
     "data": {
      "text/plain": [
       "count    7.705000e+03\n",
       "mean     8.277943e+05\n",
       "std      1.980614e+06\n",
       "min      0.000000e+00\n",
       "25%      2.955542e+05\n",
       "50%      5.242722e+05\n",
       "75%      9.807058e+05\n",
       "max      1.191136e+08\n",
       "Name: balance, dtype: float64"
      ]
     },
     "execution_count": 23,
     "metadata": {},
     "output_type": "execute_result"
    }
   ],
   "source": [
    "df['balance'].describe()"
   ]
  },
  {
   "cell_type": "code",
   "execution_count": 24,
   "metadata": {},
   "outputs": [
    {
     "data": {
      "image/png": "[encoded data removed]",
      "text/plain": [
       "<Figure size 1080x720 with 1 Axes>"
      ]
     },
     "metadata": {
      "needs_background": "light"
     },
     "output_type": "display_data"
    }
   ],
   "source": [
    "# Распределение по балансу на счёте\n",
    "fig, axs = plt.subplots(figsize=(15,10))\n",
    "sns.histplot(data=df, x='balance', hue='churn', stat='density', common_norm=False, bins = 1150)\n",
    "axs.set_xlim([0, 3000000])\n",
    "plt.xlabel('Сумма баланса', size=15)\n",
    "plt.ylabel('Распределение', size=15)\n",
    "plt.title('Распределение по балансу на счёте', size=15)\n",
    "plt.show()"
   ]
  },
  {
   "cell_type": "markdown",
   "metadata": {},
   "source": [
    "**Те, кто имеет более 1*10^6, более склонны к оттоку. Следовательно, чем больше баланс, тем больше вероятность оттока.**"
   ]
  },
  {
   "cell_type": "code",
   "execution_count": 25,
   "metadata": {},
   "outputs": [
    {
     "data": {
      "image/png": "[encoded data removed]",
      "text/plain": [
       "<Figure size 1080x720 with 1 Axes>"
      ]
     },
     "metadata": {
      "needs_background": "light"
     },
     "output_type": "display_data"
    }
   ],
   "source": [
    "# Распределение по количеству продуктов\n",
    "fig, axs = plt.subplots(figsize=(15,10))\n",
    "sns.histplot(data=df, x='products', hue='churn', stat='density', common_norm=False, bins = 30)\n",
    "plt.xlabel('Количество продуктов', size=15)\n",
    "plt.ylabel('Распределение', size=15)\n",
    "plt.title('Распределение по количеству продуктов', size=15)\n",
    "plt.show()"
   ]
  },
  {
   "cell_type": "code",
   "execution_count": 26,
   "metadata": {},
   "outputs": [
    {
     "data": {
      "image/png": "[encoded data removed]",
      "text/plain": [
       "<Figure size 1080x720 with 1 Axes>"
      ]
     },
     "metadata": {
      "needs_background": "light"
     },
     "output_type": "display_data"
    }
   ],
   "source": [
    "# Распределение по количеству продуктов\n",
    "fig, ax = plt.subplots(figsize=(15, 10))\n",
    "df.groupby(['products'])['churn'].mean().plot(kind='bar', ax=ax)\n",
    "churn_avg = df['churn'].mean()\n",
    "ax.axhline(churn_avg, color='r', linestyle='--')\n",
    "plt.xlabel('Количество продуктов', size=15)\n",
    "plt.ylabel('Распределение', size=15)\n",
    "plt.title('Распределение по количеству продуктов', size=15)\n",
    "plt.show()"
   ]
  },
  {
   "cell_type": "code",
   "execution_count": 27,
   "metadata": {},
   "outputs": [
    {
     "data": {
      "text/plain": [
       "2    5126\n",
       "1    3341\n",
       "3    1039\n",
       "4     474\n",
       "5      19\n",
       "0       1\n",
       "Name: products, dtype: int64"
      ]
     },
     "execution_count": 27,
     "metadata": {},
     "output_type": "execute_result"
    }
   ],
   "source": [
    "df['products'].value_counts()"
   ]
  },
  {
   "cell_type": "markdown",
   "metadata": {},
   "source": [
    "**Итого, пользователи, которые имеют более 2 продуктов более склонны к оттоку.**"
   ]
  },
  {
   "cell_type": "markdown",
   "metadata": {},
   "source": [
    "<div class=\"alert alert-info\"> <b>Комментарии студента:</b> Пользователь всего 1, с количеством продуктов равным 0. И так как мы строим распределение, один клиента с 0 продуктов является отточным, поэтому выглядит аномально. В целом быть клиентом банка, не имея продуктов, странно. Возможна ошибка в данных.</div>"
   ]
  },
  {
   "cell_type": "code",
   "execution_count": 28,
   "metadata": {},
   "outputs": [
    {
     "data": {
      "image/png": "[encoded data removed]",
      "text/plain": [
       "<Figure size 1080x720 with 1 Axes>"
      ]
     },
     "metadata": {
      "needs_background": "light"
     },
     "output_type": "display_data"
    }
   ],
   "source": [
    "# Распределение по оценочному доходу клиента\n",
    "fig, axs = plt.subplots(figsize=(15,10))\n",
    "sns.histplot(data=df, x='est_salary', hue='churn', stat='density', common_norm=False, bins = 140)\n",
    "axs.set_xlim([0, 300000])\n",
    "plt.xlabel('Доход клиента', size=15)\n",
    "plt.ylabel('Распределение', size=15)\n",
    "plt.title('Распределение по оценочному доходу клиента', size=15)\n",
    "plt.show()"
   ]
  },
  {
   "cell_type": "markdown",
   "metadata": {},
   "source": [
    "**Явных всплесков и зависимостей нет, по всему наблюдению присутсвют оба рассматриваемых случая. Но если рассматривать в разрезе от 100000 до 200000, то можно сделать заключение, что чем выше доход клиента, тем больше шанс оттока.**"
   ]
  },
  {
   "cell_type": "markdown",
   "metadata": {},
   "source": [
    "### Распределение зависимости категориальных и отдельных признаков"
   ]
  },
  {
   "cell_type": "markdown",
   "metadata": {},
   "source": [
    "**city** — город\n",
    "**gender** — пол\n",
    "**credit_card** — есть ли кредитная карта\n",
    "**last_activity** — активный клиент"
   ]
  },
  {
   "cell_type": "code",
   "execution_count": 29,
   "metadata": {},
   "outputs": [
    {
     "data": {
      "image/png": "[encoded data removed]",
      "text/plain": [
       "<Figure size 1080x720 with 1 Axes>"
      ]
     },
     "metadata": {
      "needs_background": "light"
     },
     "output_type": "display_data"
    }
   ],
   "source": [
    "# Распределение по городу\n",
    "fig, ax = plt.subplots(figsize=(15, 10))\n",
    "df.groupby(['city'])['churn'].mean().plot(kind='bar', ax=ax)\n",
    "churn_avg = df['churn'].mean()\n",
    "ax.axhline(churn_avg, color='r', linestyle='--')\n",
    "plt.xlabel('Город', size=15)\n",
    "plt.ylabel('Значение оттока', size=15)\n",
    "plt.title('Распределение по городу', size=15)\n",
    "plt.show()"
   ]
  },
  {
   "cell_type": "markdown",
   "metadata": {},
   "source": [
    "**По полученным данным, заметно, что нет явных перепадов, но два города выше среднего показателя оттока, это Ростов и Ярославль.**"
   ]
  },
  {
   "cell_type": "code",
   "execution_count": 30,
   "metadata": {},
   "outputs": [
    {
     "data": {
      "image/png": "[encoded data removed]",
      "text/plain": [
       "<Figure size 1080x720 with 1 Axes>"
      ]
     },
     "metadata": {
      "needs_background": "light"
     },
     "output_type": "display_data"
    }
   ],
   "source": [
    "# Распределение по гендеру\n",
    "fig, ax = plt.subplots(figsize=(15, 10))\n",
    "df.groupby(['gender'])['churn'].mean().plot(kind='bar', ax=ax)\n",
    "churn_avg = df['churn'].mean()\n",
    "ax.axhline(churn_avg, color='r', linestyle='--')\n",
    "plt.xlabel('Пол', size=15)\n",
    "plt.ylabel('Значение оттока', size=15)\n",
    "plt.title('Распределение по гендеру', size=15)\n",
    "plt.show()"
   ]
  },
  {
   "cell_type": "markdown",
   "metadata": {},
   "source": [
    "**Мужчины имеют показатель выше среднего по оттоку, чем женщины.**"
   ]
  },
  {
   "cell_type": "code",
   "execution_count": 31,
   "metadata": {},
   "outputs": [
    {
     "data": {
      "image/png": "[encoded data removed]",
      "text/plain": [
       "<Figure size 1080x720 with 1 Axes>"
      ]
     },
     "metadata": {
      "needs_background": "light"
     },
     "output_type": "display_data"
    }
   ],
   "source": [
    "# Распределение по наличию кредитной карты\n",
    "fig, ax = plt.subplots(figsize=(15, 10))\n",
    "df.groupby(['credit_card'])['churn'].mean().plot(kind='bar', ax=ax)\n",
    "churn_avg = df['churn'].mean()\n",
    "ax.axhline(churn_avg, color='r', linestyle='--')\n",
    "plt.xlabel('Наличие кредитной карты', size=15)\n",
    "plt.ylabel('Значение оттока', size=15)\n",
    "plt.title('Распределение по наличию кредитной карты', size=15)\n",
    "plt.show()"
   ]
  },
  {
   "cell_type": "markdown",
   "metadata": {},
   "source": [
    "**Клиенты, у которые нет кредитной карты, имеют наивысший показатель оттока, чем клиенты с кредитной карты. Так же пользователи без кредитной карты выше среднего показателя.**"
   ]
  },
  {
   "cell_type": "code",
   "execution_count": 32,
   "metadata": {},
   "outputs": [
    {
     "data": {
      "image/png": "[encoded data removed]",
      "text/plain": [
       "<Figure size 1080x720 with 1 Axes>"
      ]
     },
     "metadata": {
      "needs_background": "light"
     },
     "output_type": "display_data"
    }
   ],
   "source": [
    "# Распределение по активности клиентов\n",
    "fig, ax = plt.subplots(figsize=(15, 10))\n",
    "df.groupby(['last_activity'])['churn'].mean().plot(kind='bar', ax=ax)\n",
    "churn_avg = df['churn'].mean()\n",
    "ax.axhline(churn_avg, color='r', linestyle='--')\n",
    "plt.xlabel('Активность', size=15)\n",
    "plt.ylabel('Значение оттока', size=15)\n",
    "plt.title('Распределение по активности клиентов', size=15)\n",
    "plt.show()"
   ]
  },
  {
   "cell_type": "markdown",
   "metadata": {},
   "source": [
    "**Активные клиенты имеют показатель выше среднего по оттоку.**"
   ]
  },
  {
   "cell_type": "markdown",
   "metadata": {},
   "source": [
    "#### ВЫВОД 3.1-3.2: \n",
    "**На основании проведенного исследоватльского анализа всех по всем признакам, мы имеем, что склонность к оттоку повышена у:**\n",
    "\n",
    "- Пользователей с баллом кредитного скоринга в диапазоне 820-900 баллов.;\n",
    "- Клиентов в возрастной группе от 25 до 30 лет и 52 до 60.;\n",
    "- С оценкой собственности от 3 до 9;\n",
    "- С балансом более 1млн;\n",
    "- Клиентов с количеством продуктов более 2;\n",
    "- Пользователей из городов Ростов и Ярославль;\n",
    "- Мужчин\n",
    "- Клиентов не имеющие крединой карты;\n",
    "- Активных клиентов."
   ]
  },
  {
   "cell_type": "markdown",
   "metadata": {},
   "source": [
    "### Корреляционный анализ"
   ]
  },
  {
   "cell_type": "code",
   "execution_count": 33,
   "metadata": {},
   "outputs": [],
   "source": [
    "# сделаем копию, чтобы не изменять изначальныое название фрейма\n",
    "df_corr=df.copy()"
   ]
  },
  {
   "cell_type": "code",
   "execution_count": 34,
   "metadata": {},
   "outputs": [],
   "source": [
    "# удалим столбец с индификатором, для удобсвтва чтения\n",
    "df_corr.drop('user_id', axis= 1 , inplace= True )"
   ]
  },
  {
   "cell_type": "code",
   "execution_count": 35,
   "metadata": {},
   "outputs": [],
   "source": [
    "continuous_signs = ['score', 'age', 'balance', 'est_salary']"
   ]
  },
  {
   "cell_type": "code",
   "execution_count": 36,
   "metadata": {},
   "outputs": [
    {
     "data": {
      "image/png": "[encoded data removed]",
      "text/plain": [
       "<Figure size 1080x720 with 2 Axes>"
      ]
     },
     "metadata": {
      "needs_background": "light"
     },
     "output_type": "display_data"
    }
   ],
   "source": [
    "fig, axes = plt.subplots(figsize=(15, 10))\n",
    "sns.heatmap(df_corr.phik_matrix(interval_cols = continuous_signs),\n",
    "            center=0,\n",
    "            annot = True,\n",
    "            fmt = '.2f',\n",
    "            cmap='coolwarm',\n",
    "            ax = axes)\n",
    "plt.title('Таблица корреляции')\n",
    "plt.show()"
   ]
  },
  {
   "attachments": {
    "image.png": {
     "image/png": "[encoded data removed]"
    }
   },
   "cell_type": "markdown",
   "metadata": {},
   "source": [
    "**Шкала корреляции Чеддока**\n",
    "![image.png](attachment:image.png)"
   ]
  },
  {
   "cell_type": "markdown",
   "metadata": {},
   "source": [
    "**По полученной таблице корреляции и шкале кор.Чеддока, подводим итоги, что завимость умеренная у оттока с количеством продуктов(0.44), количеством баллов собственности(0.35). Слабая зависимость у значения оттока с активностью клиента(0.26), баллом кредитного скоринга(0.23), гендер(0.22) и наличие кредитной карты(0.20).**"
   ]
  },
  {
   "cell_type": "markdown",
   "metadata": {},
   "source": [
    "### ВЫВОД: По результатам проведения исследовательского анализа и аналика корреляции, были полученны пересечения признаков, а именно:\n",
    "\n",
    "**Исследовательский анализ**\n",
    "- Пользователей с баллом кредитного скоринга в диапазоне 820-900 баллов;\n",
    "- Клиентов в возрастной группе от 25 до 35 лет и 50 до 60;\n",
    "- С оценкой собственности от 3 до 9;\n",
    "- С балансом более 1млн;\n",
    "- Клиентов с количеством продуктов более 2;\n",
    "- Пользователей из городов Ростов и Ярославль;\n",
    "- Мужчин\n",
    "- Клиентов не имеющие крединой карты;\n",
    "- Активных клиентов.\n",
    "\n",
    "**Корреляционный анализ**\n",
    "- Клиенты по количеству продуктов(0.44).Умеренная зависимость\n",
    "- Количеством баллов собственности(0.35).Умеренная зависимость\n",
    "- Активность клиента(0.26).Слабая зависимость\n",
    "- Балл кредитного скоринга(0.23).Слабая зависимость\n",
    "- Гендер клиента и наличие у него кредитной карты(0.22,0.20).Слабая зависимость\n",
    "\n",
    "**Благодаря этим двум анализам, мы получили явное направление и приоритет, для дальнейшего исследования оттока клиентов.**"
   ]
  },
  {
   "cell_type": "markdown",
   "metadata": {},
   "source": [
    "## Составление и проверка статистических гипотез"
   ]
  },
  {
   "cell_type": "markdown",
   "metadata": {},
   "source": [
    "### Составление гипотез и теоретическое обосвание для дальнейших проверок"
   ]
  },
  {
   "cell_type": "markdown",
   "metadata": {},
   "source": [
    "**1) Гипотеза  о различии кредитного балла скоринга между клиентами, что ушли и теми, что остались**"
   ]
  },
  {
   "cell_type": "markdown",
   "metadata": {},
   "source": [
    "**2) Гипотеза о различии оценочного дохода между клиентами, что ушли и теми, что остались**"
   ]
  },
  {
   "cell_type": "markdown",
   "metadata": {},
   "source": [
    "**Критерий-тест Стьюдента предназначен для сравнения двух групп по количественному признаку.**\n",
    "\n",
    "**Условия применения критерия-теста:**\n",
    "1) исходная совокупность данных имеет нормальное распределение ;\n",
    "\n",
    "2) дисперсии выборок не сильно отличаются друг от друга;\n",
    "\n",
    "3) и это две независимые между собой выборки (независимые это значит, что в этих группах разные люди, а никак, например, до и после применения препарата у одной группы, люди должны быть разными, тогда группы являются несвязанными, либо независимыми), этот аспект стоит учитывать для выбора вида т-критерия Стьюдента, так как для парных выборок существует свой парный т-критерий (paired t-test)."
   ]
  },
  {
   "cell_type": "code",
   "execution_count": 37,
   "metadata": {},
   "outputs": [
    {
     "name": "stdout",
     "output_type": "stream",
     "text": [
      "<class 'pandas.core.frame.DataFrame'>\n",
      "Int64Index: 8180 entries, 1 to 9999\n",
      "Data columns (total 12 columns):\n",
      " #   Column         Non-Null Count  Dtype  \n",
      "---  ------         --------------  -----  \n",
      " 0   user_id        8180 non-null   int64  \n",
      " 1   score          8180 non-null   float64\n",
      " 2   city           8180 non-null   object \n",
      " 3   gender         8180 non-null   object \n",
      " 4   age            8155 non-null   float64\n",
      " 5   equity         8180 non-null   int64  \n",
      " 6   balance        5898 non-null   float64\n",
      " 7   products       8180 non-null   int64  \n",
      " 8   credit_card    8180 non-null   int64  \n",
      " 9   last_activity  8180 non-null   int64  \n",
      " 10  est_salary     8180 non-null   float64\n",
      " 11  churn          8180 non-null   int64  \n",
      "dtypes: float64(4), int64(6), object(2)\n",
      "memory usage: 830.8+ KB\n"
     ]
    }
   ],
   "source": [
    "# разделим данные на ушедших и оставшихся, для проверки условий выполнения ttest\n",
    "# оставшиеся клиенты\n",
    "df_stayed = df.loc[df[\"churn\"] == 0]\n",
    "df_stayed.info()"
   ]
  },
  {
   "cell_type": "code",
   "execution_count": 38,
   "metadata": {},
   "outputs": [
    {
     "name": "stdout",
     "output_type": "stream",
     "text": [
      "<class 'pandas.core.frame.DataFrame'>\n",
      "Int64Index: 1820 entries, 0 to 9994\n",
      "Data columns (total 12 columns):\n",
      " #   Column         Non-Null Count  Dtype  \n",
      "---  ------         --------------  -----  \n",
      " 0   user_id        1820 non-null   int64  \n",
      " 1   score          1820 non-null   float64\n",
      " 2   city           1820 non-null   object \n",
      " 3   gender         1820 non-null   object \n",
      " 4   age            1819 non-null   float64\n",
      " 5   equity         1820 non-null   int64  \n",
      " 6   balance        1807 non-null   float64\n",
      " 7   products       1820 non-null   int64  \n",
      " 8   credit_card    1820 non-null   int64  \n",
      " 9   last_activity  1820 non-null   int64  \n",
      " 10  est_salary     1820 non-null   float64\n",
      " 11  churn          1820 non-null   int64  \n",
      "dtypes: float64(4), int64(6), object(2)\n",
      "memory usage: 184.8+ KB\n"
     ]
    }
   ],
   "source": [
    "# разделим данные на ушедших и оставшихся, для проверки условий выполнения ttest\n",
    "# ушедшие клиенты\n",
    "df_gone = df.loc[df[\"churn\"] == 1]\n",
    "df_gone.info()"
   ]
  },
  {
   "cell_type": "markdown",
   "metadata": {},
   "source": [
    "**Разделенные данные имеют разницу в объёме(8180 строк и 1820 строк), но условие по распределению и независиомсти соблюдается. А пункт с дисперсией выборок мы не можем проверить, поэтому при использовании t-теста зададим параметр equal_var=False. Следовательно, мы можем использовать t-теста, а именно метод ttest_ind, так как он предназначен для проверки гипотезы о равенстве средних двух генеральных совокупностей. Так же в гипотезах используются количественные признаки.**\n"
   ]
  },
  {
   "cell_type": "markdown",
   "metadata": {},
   "source": [
    "### Проверка гипотезы о различии кредитного балла скоринга между клиентами, что ушли и теми, что остались"
   ]
  },
  {
   "cell_type": "markdown",
   "metadata": {},
   "source": [
    "- Нулевая гипотеза: средние пользовательские баллы скоринга клиентов что ушли и теми что остались одинаковые.\n",
    "- Альтернативная гипотеза: средние пользовательские баллы скоринга клиентов что ушли и теми что остались разные.\n",
    "\n",
    "alpha = 0.05"
   ]
  },
  {
   "cell_type": "code",
   "execution_count": 39,
   "metadata": {},
   "outputs": [
    {
     "name": "stdout",
     "output_type": "stream",
     "text": [
      "p-value: 1.2043086927657869e-37\n",
      "Отвергаем нулевую гипотезу: средние пользовательские баллы скоринга клиентов что ушли и теми что остались разные\n"
     ]
    }
   ],
   "source": [
    "alpha = 0.05\n",
    "\n",
    "results = st.ttest_ind(df_stayed['score'],\n",
    "                       df_gone['score'],\n",
    "                       equal_var=False,\n",
    "                       alternative='two-sided')\n",
    "\n",
    "print(f'p-value: {results.pvalue}')\n",
    "\n",
    "if results.pvalue < alpha:\n",
    "    print('Отвергаем нулевую гипотезу: средние пользовательские баллы скоринга клиентов что ушли и теми что остались разные')\n",
    "else:\n",
    "    print('Нет оснований отвергнуть нулевую гипотезу: средние пользовательские баллы скоринга клиентов что ушли и что остались одинаковые')"
   ]
  },
  {
   "cell_type": "markdown",
   "metadata": {},
   "source": [
    "**По итогу теста, мы получаем, что баллы скоринга ушедших клиентов и оставшихся различаются.**"
   ]
  },
  {
   "cell_type": "markdown",
   "metadata": {},
   "source": [
    "### Проверка гипотезы о различии оценочного дохода между клиентами, что ушли и теми, что остались"
   ]
  },
  {
   "cell_type": "markdown",
   "metadata": {},
   "source": [
    "- Нулевая гипотеза: средние пользовательские доходы клиентов что ушли и теми что остались одинаковые.\n",
    "- Альтернативная гипотеза: средние пользовательские доходы клиентов что ушли и теми что остались разные.\n",
    "\n",
    "alpha = 0.05"
   ]
  },
  {
   "cell_type": "code",
   "execution_count": 40,
   "metadata": {},
   "outputs": [
    {
     "name": "stdout",
     "output_type": "stream",
     "text": [
      "p-value: 0.8887054822123845\n",
      "Нет оснований отвергнуть нулевую гипотезу: средние пользовательские доходы клиентов что ушли и что остались одинаковые\n"
     ]
    }
   ],
   "source": [
    "alpha = 0.05\n",
    "\n",
    "results = st.ttest_ind(df_stayed['est_salary'],\n",
    "                       df_gone['est_salary'],\n",
    "                       equal_var=False,\n",
    "                       alternative='two-sided')\n",
    "\n",
    "print(f'p-value: {results.pvalue}')\n",
    "\n",
    "if results.pvalue < alpha:\n",
    "    print('Отвергаем нулевую гипотезу: средние пользовательские доходы клиентов что ушли и теми что остались разные')\n",
    "else:\n",
    "    print('Нет оснований отвергнуть нулевую гипотезу: средние пользовательские доходы клиентов что ушли и что остались одинаковые')"
   ]
  },
  {
   "cell_type": "markdown",
   "metadata": {},
   "source": [
    "**По итогу теста, мы получаем, что доходы ушедших клиентов и оставшихся одинаковые.**"
   ]
  },
  {
   "cell_type": "markdown",
   "metadata": {},
   "source": [
    "### ВЫВОД: Составили две гипотезы и проверили их методом Стьюдента. В итоге получили, что баллы скоринга ушедших клиентов и оставшихся различаются, а доходы ушедших клиентов и оставшихся одинаковые."
   ]
  },
  {
   "cell_type": "markdown",
   "metadata": {},
   "source": [
    "## Подведение промежуточных выводов"
   ]
  },
  {
   "cell_type": "markdown",
   "metadata": {},
   "source": [
    "**На данном этапе мы определим признаки и разбег в количественных признаках, для определения портрета клиента, которые имеет склонность к оттоку.**\n",
    "\n",
    "1) После проведения исследовательского анализа, исполненного с помощью диаграм и других вызуализаций, были получены следующие признаки: \n",
    "- Пользователей с баллом кредитного скоринга в диапазоне 820-900 баллов.;\n",
    "- Клиентов в возрастной группе от 25 до 35 лет и 50 до 60.;\n",
    "- С оценкой собственности от 3 до 9;\n",
    "- С балансом более 1млн;\n",
    "- Клиентов с количеством продуктов более 2;\n",
    "- Пользователей из городов Ростов и Ярославль;\n",
    "- Мужчин;\n",
    "- Клиентов не имеющие крединой карты;\n",
    "- Активных клиентов;\n",
    "- Оценочный доход 100к-200к.\n",
    "\n",
    "2) Так же исследовательский анализ был выполнен блягодаря корреляционного анализа, и были получены следующие признаки:\n",
    "- Клиенты по количеству продуктов(0.44).Умеренная зависимость\n",
    "- Количеством баллов собственности(0.35).Умеренная зависимость\n",
    "- Активность клиента(0.26).Слабая зависимость\n",
    "- Балл кредитного скоринга(0.23).Слабая зависимость\n",
    "- Гендер клиента и наличие у него кредитной карты(0.22,0.20).Слабая зависимость\n",
    "\n",
    "3) Во время проведения 4 пункта, выполнялась проверка двух гипотез о разнице или сходстве средних показателей кредитного скоринга, дохода между ушедшими и оставшиеся клиентами:\n",
    "- Проверка гипотезы о различии кредитного балла скоринга между клиентами, что ушли и теми, что остались.\n",
    "\n",
    "*Результат: баллы скоринга ушедших клиентов и оставшихся различаются*\n",
    "\n",
    "-  Проверка гипотезы о различии оценочного дохода между клиентами, что ушли и теми, что остались.\n",
    "\n",
    "*Результат: доходы ушедших клиентов и оставшихся одинаковые*\n",
    "\n",
    "**Выделим 3 сегмента, учитывая все перечисленные итоги.**\n",
    "\n",
    "1 СЕГМЕНТ\n",
    "\n",
    "**score** — баллы кредитного скоринга(820-900)\n",
    "\n",
    "**city** — город(любой)\n",
    "\n",
    "**gender** — пол(любой)\n",
    "\n",
    "**age** — возраст(25-35)\n",
    "\n",
    "**equity** — количество баллов собственности(больше и равно 5)\n",
    "\n",
    "**balance** — баланс на счёте(любой)\n",
    "\n",
    "**products** — количество продуктов, которыми пользуется клиент(менее и равно 2)\n",
    "\n",
    "**credit_card** — есть ли кредитная карта(нет значения)\n",
    "\n",
    "**last_activity** — активный клиент(нет значения)\n",
    "\n",
    "**est_salary** — оценочный доход клиента(менее 200000)\n",
    "\n",
    "2 СЕГМЕНТ\n",
    "\n",
    "**score** — баллы кредитного скоринга(нет значения)\n",
    "\n",
    "**city** — город(любой)\n",
    "\n",
    "**gender** — пол(любой)\n",
    "\n",
    "**age** — возраст(50-60)\n",
    "\n",
    "**equity** — количество баллов собственности(меньше и равно 5)\n",
    "\n",
    "**balance** — баланс на счёте(любой)\n",
    "\n",
    "**products** — количество продуктов, которыми пользуется клиент(более и равно 2)\n",
    "\n",
    "**credit_card** — есть ли кредитная карта(отсутсвует)\n",
    "\n",
    "**last_activity** — активный клиент(нет значения)\n",
    "\n",
    "**est_salary** — оценочный доход клиента(нет значения)\n",
    "\n",
    "3 СЕГМЕНТ\n",
    "\n",
    "**score** — баллы кредитного скоринга(820-900)\n",
    "\n",
    "**city** — город(любой)\n",
    "\n",
    "**gender** — пол(любой)\n",
    "\n",
    "**age** — возраст(любой)\n",
    "\n",
    "**equity** — количество баллов собственности(3-9)\n",
    "\n",
    "**balance** — баланс на счёте(любой)\n",
    "\n",
    "**products** — количество продуктов, которыми пользуется клиент(больше и равно 3)\n",
    "\n",
    "**credit_card** — есть ли кредитная карта(нет значения)\n",
    "\n",
    "**last_activity** — активный клиент(нет значения)\n",
    "\n",
    "**est_salary** — оценочный доход клиента(0-200000)\n",
    "\n",
    "В следующем пункте проверим перечисленные 3 сегмента, на целесообразность. Так, чтобы процент отточных клиентов превышал средний процентт оттока по банку."
   ]
  },
  {
   "cell_type": "markdown",
   "metadata": {},
   "source": [
    "## Сегментация"
   ]
  },
  {
   "cell_type": "markdown",
   "metadata": {},
   "source": [
    "**Сегментация проведена по главным признакам, полученным по исследовательскому анализу, и их интервалам, а именно:**\n",
    "- баллам кредитного скоринга\n",
    "- возраст\n",
    "- количеству баллов собственности\n",
    "- количеству продуктов\n",
    "- оценочному доходу клиентов"
   ]
  },
  {
   "cell_type": "code",
   "execution_count": 41,
   "metadata": {},
   "outputs": [
    {
     "data": {
      "text/plain": [
       "18.2"
      ]
     },
     "execution_count": 41,
     "metadata": {},
     "output_type": "execute_result"
    }
   ],
   "source": [
    "# среднебанковский уровень оттока\n",
    "df['churn'].mean()*100"
   ]
  },
  {
   "cell_type": "markdown",
   "metadata": {},
   "source": [
    "1 СЕГМЕНТ\n",
    "\n",
    "**score** — баллы кредитного скоринга(любое)\n",
    "\n",
    "**city** — город(любой)\n",
    "\n",
    "**gender** — пол(любой)\n",
    "\n",
    "**age** — возраст(25-35)\n",
    "\n",
    "**equity** — количество баллов собственности(больше и равно 5)\n",
    "\n",
    "**balance** — баланс на счёте(любой)\n",
    "\n",
    "**products** — количество продуктов, которыми пользуется клиент(меньше 3)\n",
    "\n",
    "**credit_card** — есть ли кредитная карта(нет значения)\n",
    "\n",
    "**last_activity** — активный клиент(нет значения)\n",
    "\n",
    "**est_salary** — оценочный доход клиента(меньше и равно 200000)"
   ]
  },
  {
   "cell_type": "code",
   "execution_count": 42,
   "metadata": {},
   "outputs": [
    {
     "name": "stdout",
     "output_type": "stream",
     "text": [
      "Размер первого сегмента: 1403\n",
      "Число отточных клиентов в первом сегменте: 332\n",
      "Процент отточных клиентов в первом сегменте: 23.66357804704205\n"
     ]
    }
   ],
   "source": [
    "one = df.query (' equity>=5 and (age>=25 or age<=35) and products < 3 and est_salary <= 200000')['user_id'].count()\n",
    "\n",
    "print ('Размер первого сегмента:', one)\n",
    "\n",
    "one_proc = df.query (' equity>=5 and (age>=25 or age<=35) and products < 3 and est_salary <= 200000 and churn==1')['user_id'].count()\n",
    "\n",
    "print ('Число отточных клиентов в первом сегменте:', one_proc)\n",
    "\n",
    "one_rate = one_proc/one*100\n",
    "\n",
    "print ('Процент отточных клиентов в первом сегменте:', one_rate)"
   ]
  },
  {
   "cell_type": "markdown",
   "metadata": {},
   "source": [
    "2 СЕГМЕНТ\n",
    "\n",
    "**score** — баллы кредитного скоринга(нет значения)\n",
    "\n",
    "**city** — город(любой)\n",
    "\n",
    "**gender** — пол(любой)\n",
    "\n",
    "**age** — возраст(50-60)\n",
    "\n",
    "**equity** — количество баллов собственности(меньше и равно 5)\n",
    "\n",
    "**balance** — баланс на счёте(любой)\n",
    "\n",
    "**products** — количество продуктов, которыми пользуется клиент(меньше 3)\n",
    "\n",
    "**credit_card** — есть ли кредитная карта(отсутсвует)\n",
    "\n",
    "**last_activity** — активный клиент(нет значения)\n",
    "\n",
    "**est_salary** — оценочный доход клиента(нет значения)\n"
   ]
  },
  {
   "cell_type": "code",
   "execution_count": 43,
   "metadata": {},
   "outputs": [
    {
     "name": "stdout",
     "output_type": "stream",
     "text": [
      "Размер второго сегмента: 2299\n",
      "Число отточных клиентов во втором сегменте: 517\n",
      "Процент отточных клиентов во втором сегменте: 22.48803827751196\n"
     ]
    }
   ],
   "source": [
    "two = df.query ('(age>=50 or age<=60) and equity <=5 and products < 3 and credit_card == 0')['user_id'].count()\n",
    "\n",
    "print ('Размер второго сегмента:', two)\n",
    "\n",
    "two_proc = df.query ('(age>=50 or age<=60) and equity <=5 and products < 3 and credit_card == 0 and churn==1')['user_id'].count()\n",
    "\n",
    "print ('Число отточных клиентов во втором сегменте:', two_proc)\n",
    "\n",
    "two_rate = two_proc/two*100\n",
    "\n",
    "print ('Процент отточных клиентов во втором сегменте:', two_rate)"
   ]
  },
  {
   "cell_type": "markdown",
   "metadata": {},
   "source": [
    "3 СЕГМЕНТ\n",
    "\n",
    "**score** — баллы кредитного скоринга(820-900)\n",
    "\n",
    "**city** — город(любой)\n",
    "\n",
    "**gender** — пол(любой)\n",
    "\n",
    "**age** — возраст(любой)\n",
    "\n",
    "**equity** — количество баллов собственности(любое)\n",
    "\n",
    "**balance** — баланс на счёте(любой)\n",
    "\n",
    "**products** — количество продуктов, которыми пользуется клиент(больше и равно 3)\n",
    "\n",
    "**credit_card** — есть ли кредитная карта(нет значения)\n",
    "\n",
    "**last_activity** — активный клиент(нет значения)\n",
    "\n",
    "**est_salary** — оценочный доход клиента(100000-200000)"
   ]
  },
  {
   "cell_type": "code",
   "execution_count": 44,
   "metadata": {},
   "outputs": [
    {
     "name": "stdout",
     "output_type": "stream",
     "text": [
      "Размер третьего сегмента: 1532\n",
      "Число отточных клиентов в третьем сегменте: 605\n",
      "Процент отточных клиентов в третьем сегменте: 39.49086161879896\n"
     ]
    }
   ],
   "source": [
    "three = df.query ('(score>=820 or score<=900) and products >= 3 and (est_salary >= 100000 or est_salary <=200000)')['user_id'].count()\n",
    "\n",
    "print ('Размер третьего сегмента:', three)\n",
    "\n",
    "three_proc = df.query ('(score>=820 or score<=900) and products >= 3 and (est_salary >= 100000 or est_salary <=200000) and churn==1')['user_id'].count()\n",
    "\n",
    "print ('Число отточных клиентов в третьем сегменте:', three_proc)\n",
    "\n",
    "three_rate = three_proc/three*100\n",
    "\n",
    "print ('Процент отточных клиентов в третьем сегменте:', three_rate)"
   ]
  },
  {
   "cell_type": "markdown",
   "metadata": {},
   "source": [
    "### ВЫВОД: По результатам сегментации, мы получили 3 портрета(сегмента) клиентов, способные на отток.\n",
    "\n",
    "- 1 СЕГМЕНТ\n",
    "\n",
    "**score** — баллы кредитного скоринга(любое)\n",
    "\n",
    "**city** — город(любой)\n",
    "\n",
    "**gender** — пол(любой)\n",
    "\n",
    "**age** — возраст(25-35)\n",
    "\n",
    "**equity** — количество баллов собственности(больше и равно 5)\n",
    "\n",
    "**balance** — баланс на счёте(любой)\n",
    "\n",
    "**products** — количество продуктов, которыми пользуется клиент(меньше 3)\n",
    "\n",
    "**credit_card** — есть ли кредитная карта(нет значения)\n",
    "\n",
    "**last_activity** — активный клиент(нет значения)\n",
    "\n",
    "**est_salary** — оценочный доход клиента(меньше и равно 200000)\n",
    "\n",
    "- 2 СЕГМЕНТ\n",
    "\n",
    "**score** — баллы кредитного скоринга(нет значения)\n",
    "\n",
    "**city** — город(любой)\n",
    "\n",
    "**gender** — пол(любой)\n",
    "\n",
    "**age** — возраст(50-60)\n",
    "\n",
    "**equity** — количество баллов собственности(меньше и равно 5)\n",
    "\n",
    "**balance** — баланс на счёте(любой)\n",
    "\n",
    "**products** — количество продуктов, которыми пользуется клиент(меньше 3)\n",
    "\n",
    "**credit_card** — есть ли кредитная карта(отсутсвует)\n",
    "\n",
    "**last_activity** — активный клиент(нет значения)\n",
    "\n",
    "**est_salary** — оценочный доход клиента(нет значения)\n",
    "\n",
    "- 3 СЕГМЕНТ\n",
    "\n",
    "**score** — баллы кредитного скоринга(820-900)\n",
    "\n",
    "**city** — город(любой)\n",
    "\n",
    "**gender** — пол(любой)\n",
    "\n",
    "**age** — возраст(любой)\n",
    "\n",
    "**equity** — количество баллов собственности(любое)\n",
    "\n",
    "**balance** — баланс на счёте(любой)\n",
    "\n",
    "**products** — количество продуктов, которыми пользуется клиент(больше и равно 3)\n",
    "\n",
    "**credit_card** — есть ли кредитная карта(нет значения)\n",
    "\n",
    "**last_activity** — активный клиент(нет значения)\n",
    "\n",
    "**est_salary** — оценочный доход клиента(100000-200000)"
   ]
  },
  {
   "cell_type": "markdown",
   "metadata": {},
   "source": [
    "## Приоритизация сегментов"
   ]
  },
  {
   "cell_type": "markdown",
   "metadata": {},
   "source": [
    "**Определим для отдела маркетинга в каком приоритете стоит решить проблему оттока, какие признаки включают в себя клиенты, способные на отток**"
   ]
  },
  {
   "cell_type": "code",
   "execution_count": 45,
   "metadata": {},
   "outputs": [
    {
     "data": {
      "text/html": [
       "<div>\n",
       "<style scoped>\n",
       "    .dataframe tbody tr th:only-of-type {\n",
       "        vertical-align: middle;\n",
       "    }\n",
       "\n",
       "    .dataframe tbody tr th {\n",
       "        vertical-align: top;\n",
       "    }\n",
       "\n",
       "    .dataframe thead th {\n",
       "        text-align: right;\n",
       "    }\n",
       "</style>\n",
       "<table border=\"1\" class=\"dataframe\">\n",
       "  <thead>\n",
       "    <tr style=\"text-align: right;\">\n",
       "      <th></th>\n",
       "      <th>User Count</th>\n",
       "      <th>Churn Count</th>\n",
       "      <th>Churn Rate</th>\n",
       "    </tr>\n",
       "  </thead>\n",
       "  <tbody>\n",
       "    <tr>\n",
       "      <th>2</th>\n",
       "      <td>1532</td>\n",
       "      <td>605</td>\n",
       "      <td>39.490862</td>\n",
       "    </tr>\n",
       "    <tr>\n",
       "      <th>0</th>\n",
       "      <td>1403</td>\n",
       "      <td>332</td>\n",
       "      <td>23.663578</td>\n",
       "    </tr>\n",
       "    <tr>\n",
       "      <th>1</th>\n",
       "      <td>2299</td>\n",
       "      <td>517</td>\n",
       "      <td>22.488038</td>\n",
       "    </tr>\n",
       "  </tbody>\n",
       "</table>\n",
       "</div>"
      ],
      "text/plain": [
       "   User Count  Churn Count  Churn Rate\n",
       "2        1532          605   39.490862\n",
       "0        1403          332   23.663578\n",
       "1        2299          517   22.488038"
      ]
     },
     "execution_count": 45,
     "metadata": {},
     "output_type": "execute_result"
    }
   ],
   "source": [
    "result_table = pd.DataFrame({\n",
    "    'User Count': [one, two, three],\n",
    "    'Churn Count': [one_proc, two_proc, three_proc],\n",
    "    'Churn Rate': [one_rate, two_rate, three_rate]\n",
    "})\n",
    "result_table.sort_values('Churn Rate', ascending=False, inplace=True)\n",
    "result_table"
   ]
  },
  {
   "cell_type": "markdown",
   "metadata": {},
   "source": [
    "**Все 3 сегмента превышают 18.2 процента оттока по банку. Приоритет для отдела маркитинга следующий:**\n",
    "- на 1 месте 3 сегмент с процентом оттока 39.5\n",
    "- на 2 месте 1 сегмент с процентом оттока 23.6\n",
    "- на 3 месте 2 сегмент с процентом оттока 22.5"
   ]
  },
  {
   "cell_type": "markdown",
   "metadata": {},
   "source": [
    "## Формирование общего вывода и ремендаций для отдела маркетинга"
   ]
  },
  {
   "cell_type": "markdown",
   "metadata": {},
   "source": [
    "### Общий вывод: данный проект включил в себя этапы:\n",
    "1) Загрузка и ознакомление с данными:\n",
    "- Данный датасет имеет 12 столбцов, 10000 строк. Датасет был неполным, присутствовали пропуски. Необходимо было отредактировать наименования столбцов по нормам.\n",
    "\n",
    "2) Подготовка и предобработка данных:\n",
    "- При проверке на наличие явных и неявных дубликатов, было получено. Отсутствуют явные дубликаты, но присутствуют неявные. После уточнения и выяснения их природы, было принято решение, оставить без изменений, так как эти неявные дубликаты не имеют схожести, только по user_id.\n",
    "- По графику корреляции признаков получили, что есть зависимость между пропусками в балансе и количеством баллов собственности(equity). А также присутствует зависимость с количеством продуктов(products) и баллами кредитного скоринга(score). То есть, пропуски зависят от данных (пропуски относятся к MNAR (Missing Not At Random / Отсутствует не случайно) и их стоит оставить без изменений.\n",
    "\n",
    "3) Исследовательский анализ данных:\n",
    "- Данный этап выполнялся двумя методами, по результатам визуализации(распределений) и корреляционного анализа. Благодаря которым получили признаки клиентов, имеющие склонность к оттоку:\n",
    "\n",
    "**Исследовательский анализ**\n",
    "\n",
    " Пользователей с баллом кредитного скоринга в диапазоне 820-900 баллов;\n",
    " \n",
    " Клиентов в возрастной группе от 25 до 30 лет и 52 до 60;\n",
    " \n",
    " С оценкой собственности от 3 до 9;\n",
    " \n",
    " С балансом более 1млн;\n",
    " \n",
    " Клиентов с количеством продуктов более 2;\n",
    " \n",
    " Пользователей из городов Ростов и Ярославль;\n",
    " \n",
    " Мужчин;\n",
    " \n",
    " Клиентов не имеющие крединой карты;\n",
    " \n",
    " Активных клиентов.\n",
    "\n",
    "**Корреляционный анализ**\n",
    "\n",
    " Клиенты по количеству продуктов(0.44).Умеренная зависимость;\n",
    " \n",
    " Количеством баллов собственности(0.35).Умеренная зависимость;\n",
    " \n",
    " Активность клиента(0.26).Слабая зависимость;\n",
    " \n",
    " Балл кредитного скоринга(0.23).Слабая зависимость;\n",
    " \n",
    " Гендер клиента и наличие у него кредитной карты(0.22,0.20).Слабая зависимость.\n",
    " \n",
    "4) Составление и проверка гипотез:\n",
    "- По результатам данного этапа были составлены две гипотезы, и проверили их методом Стьюдента. В итоге получили, что баллы скоринга ушедших клиентов и оставшихся различаются, а доходы ушедших клиентов и оставшихся одинаковые.\n",
    "\n",
    "5) Сегментация и приоритизация:\n",
    "- На данном этапе было сформировано 3 портрета клиента и проранжировано по важности для отдела маркетинга. Данные о клиентах, имеющие склонность к оттоку будут в разделе о рекомендациях для отдела маркетинга.\n",
    " "
   ]
  },
  {
   "cell_type": "markdown",
   "metadata": {},
   "source": [
    "### Рекомендация для отдела маркетинга\n",
    "**Проведя данное исследование, мы выявили зависимость между признаками клиентов и оттоком, такие как:**\n",
    "- балл кредитного скоринга\n",
    "- возраст клиента\n",
    "- количество баллов собственности\n",
    "- количество продуктов\n",
    "- оценочный доход клиента\n",
    "\n",
    "**По этим признакам было сформировано 3 сегмента и проверен процент оттока, сравнив его со средний банковским, тем самым обозначив приоритет решения**\n",
    "- на 1 месте 3 сегмент с процентом оттока 39.5\n",
    "\n",
    "**score** — баллы кредитного скоринга(820-900)\n",
    "\n",
    "**city** — город(любой)\n",
    "\n",
    "**gender** — пол(любой)\n",
    "\n",
    "**age** — возраст(любой)\n",
    "\n",
    "**equity** — количество баллов собственности(любое)\n",
    "\n",
    "**balance** — баланс на счёте(любой)\n",
    "\n",
    "**products** — количество продуктов, которыми пользуется клиент(больше и равно 3)\n",
    "\n",
    "**credit_card** — есть ли кредитная карта(нет значения)\n",
    "\n",
    "**last_activity** — активный клиент(нет значения)\n",
    "\n",
    "**est_salary** — оценочный доход клиента(100000-200000)\n",
    "\n",
    "- на 2 месте 1 сегмент с процентом оттока 23.6\n",
    "\n",
    "**score** — баллы кредитного скоринга(любое)\n",
    "\n",
    "**city** — город(любой)\n",
    "\n",
    "**gender** — пол(любой)\n",
    "\n",
    "**age** — возраст(25-35)\n",
    "\n",
    "**equity** — количество баллов собственности(больше и равно 5)\n",
    "\n",
    "**balance** — баланс на счёте(любой)\n",
    "\n",
    "**products** — количество продуктов, которыми пользуется клиент(меньше 3)\n",
    "\n",
    "**credit_card** — есть ли кредитная карта(нет значения)\n",
    "\n",
    "**last_activity** — активный клиент(нет значения)\n",
    "\n",
    "**est_salary** — оценочный доход клиента(меньше и равно 200000)\n",
    "\n",
    "- на 3 месте 2 сегмент с процентом оттока 22.5\n",
    "\n",
    "**score** — баллы кредитного скоринга(нет значения)\n",
    "\n",
    "**city** — город(любой)\n",
    "\n",
    "**gender** — пол(любой)\n",
    "\n",
    "**age** — возраст(50-60)\n",
    "\n",
    "**equity** — количество баллов собственности(меньше и равно 5)\n",
    "\n",
    "**balance** — баланс на счёте(любой)\n",
    "\n",
    "**products** — количество продуктов, которыми пользуется клиент(меньше 3)\n",
    "\n",
    "**credit_card** — есть ли кредитная карта(отсутсвует)\n",
    "\n",
    "**last_activity** — активный клиент(нет значения)\n",
    "\n",
    "**est_salary** — оценочный доход клиента(нет значения)\n",
    "\n",
    "**Рекомендации:**\n",
    "- Для 3 сегмента, который имеет наивысший приоритет, состоит из клиентов с кредитным скорингом(820-900), достаточным количеством продуктов, но низким оценочным доходом, следует провести опрос, мониторинг, который позволит выяснить отрицательные показатели. Банковские возможности, ставки, объём кредитования, процент вклада.\n",
    "\n",
    "\n",
    "- Для 1 сегмента, котрый состоит из клиентов в возрасте(25-35), приемлемыми показателями по количеству собственности и продуктов и оценочным доходом менее 200000, следует предложить выгодную кешбэк программу, дав выбор на определнную сферу, например автомобильные запчасти, продукты, фитнес, развлечения.\n",
    "\n",
    "\n",
    "- Для 2 сегмента, в который входят клиента в возрасте(50-60), имеют количество собственности до 5, но отсутсвует кредитная карта, необходимо предложить льготную программу кредитования, по этой причине, присутсвует потенциальность и способность удержания."
   ]
  }
 ],
 "metadata": {
  "ExecuteTimeLog": [
   {
    "duration": 1315,
    "start_time": "2024-08-11T10:43:12.123Z"
   },
   {
    "duration": 103,
    "start_time": "2024-08-11T10:43:14.503Z"
   },
   {
    "duration": 16,
    "start_time": "2024-08-11T10:43:24.579Z"
   },
   {
    "duration": 11,
    "start_time": "2024-08-11T10:43:32.775Z"
   },
   {
    "duration": 35,
    "start_time": "2024-08-11T10:44:52.263Z"
   },
   {
    "duration": 7,
    "start_time": "2024-08-11T10:52:50.085Z"
   },
   {
    "duration": 8,
    "start_time": "2024-08-11T10:54:23.729Z"
   },
   {
    "duration": 97,
    "start_time": "2024-08-11T10:56:46.823Z"
   },
   {
    "duration": 19,
    "start_time": "2024-08-11T10:58:51.818Z"
   },
   {
    "duration": 21,
    "start_time": "2024-08-11T10:59:13.825Z"
   },
   {
    "duration": 6,
    "start_time": "2024-08-11T10:59:31.274Z"
   },
   {
    "duration": 5,
    "start_time": "2024-08-11T10:59:38.420Z"
   },
   {
    "duration": 19,
    "start_time": "2024-08-11T11:00:18.396Z"
   },
   {
    "duration": 8,
    "start_time": "2024-08-11T11:01:24.078Z"
   },
   {
    "duration": 8,
    "start_time": "2024-08-11T11:01:39.254Z"
   },
   {
    "duration": 17,
    "start_time": "2024-08-11T11:01:46.703Z"
   },
   {
    "duration": 11,
    "start_time": "2024-08-11T11:02:09.945Z"
   },
   {
    "duration": 11,
    "start_time": "2024-08-11T11:03:13.447Z"
   },
   {
    "duration": 7,
    "start_time": "2024-08-11T11:07:25.662Z"
   },
   {
    "duration": 7,
    "start_time": "2024-08-11T11:08:39.773Z"
   },
   {
    "duration": 3,
    "start_time": "2024-08-11T11:25:26.165Z"
   },
   {
    "duration": 5,
    "start_time": "2024-08-11T11:27:51.790Z"
   },
   {
    "duration": 3,
    "start_time": "2024-08-11T11:29:19.633Z"
   },
   {
    "duration": 63,
    "start_time": "2024-08-11T11:32:52.227Z"
   },
   {
    "duration": 149,
    "start_time": "2024-08-11T11:33:01.334Z"
   },
   {
    "duration": 126,
    "start_time": "2024-08-11T11:33:15.533Z"
   },
   {
    "duration": 128,
    "start_time": "2024-08-11T11:33:46.488Z"
   },
   {
    "duration": 1331,
    "start_time": "2024-08-11T11:36:59.458Z"
   },
   {
    "duration": 0,
    "start_time": "2024-08-11T11:37:00.791Z"
   },
   {
    "duration": 0,
    "start_time": "2024-08-11T11:37:00.792Z"
   },
   {
    "duration": 0,
    "start_time": "2024-08-11T11:37:00.793Z"
   },
   {
    "duration": 0,
    "start_time": "2024-08-11T11:37:00.794Z"
   },
   {
    "duration": 0,
    "start_time": "2024-08-11T11:37:00.796Z"
   },
   {
    "duration": 0,
    "start_time": "2024-08-11T11:37:00.796Z"
   },
   {
    "duration": 0,
    "start_time": "2024-08-11T11:37:00.797Z"
   },
   {
    "duration": 0,
    "start_time": "2024-08-11T11:37:00.798Z"
   },
   {
    "duration": 0,
    "start_time": "2024-08-11T11:37:00.799Z"
   },
   {
    "duration": 0,
    "start_time": "2024-08-11T11:37:00.800Z"
   },
   {
    "duration": 0,
    "start_time": "2024-08-11T11:37:00.801Z"
   },
   {
    "duration": 0,
    "start_time": "2024-08-11T11:37:00.801Z"
   },
   {
    "duration": 0,
    "start_time": "2024-08-11T11:37:00.802Z"
   },
   {
    "duration": 0,
    "start_time": "2024-08-11T11:37:00.803Z"
   },
   {
    "duration": 0,
    "start_time": "2024-08-11T11:37:00.804Z"
   },
   {
    "duration": 0,
    "start_time": "2024-08-11T11:37:00.805Z"
   },
   {
    "duration": 0,
    "start_time": "2024-08-11T11:37:00.806Z"
   },
   {
    "duration": 3271,
    "start_time": "2024-08-11T11:40:01.119Z"
   },
   {
    "duration": 1295,
    "start_time": "2024-08-11T11:40:09.359Z"
   },
   {
    "duration": 45,
    "start_time": "2024-08-11T11:40:10.656Z"
   },
   {
    "duration": 14,
    "start_time": "2024-08-11T11:40:10.705Z"
   },
   {
    "duration": 12,
    "start_time": "2024-08-11T11:40:10.720Z"
   },
   {
    "duration": 76,
    "start_time": "2024-08-11T11:40:10.734Z"
   },
   {
    "duration": 18,
    "start_time": "2024-08-11T11:40:10.811Z"
   },
   {
    "duration": 5,
    "start_time": "2024-08-11T11:40:10.831Z"
   },
   {
    "duration": 8,
    "start_time": "2024-08-11T11:40:10.837Z"
   },
   {
    "duration": 6,
    "start_time": "2024-08-11T11:40:10.848Z"
   },
   {
    "duration": 4,
    "start_time": "2024-08-11T11:40:10.855Z"
   },
   {
    "duration": 3,
    "start_time": "2024-08-11T11:40:10.861Z"
   },
   {
    "duration": 19296,
    "start_time": "2024-08-11T11:40:10.882Z"
   },
   {
    "duration": 9,
    "start_time": "2024-08-11T11:40:30.180Z"
   },
   {
    "duration": 45,
    "start_time": "2024-08-11T11:40:30.191Z"
   },
   {
    "duration": 51,
    "start_time": "2024-08-11T11:40:30.238Z"
   },
   {
    "duration": 35,
    "start_time": "2024-08-11T11:40:30.291Z"
   },
   {
    "duration": 60,
    "start_time": "2024-08-11T11:40:30.327Z"
   },
   {
    "duration": 91,
    "start_time": "2024-08-11T11:40:30.389Z"
   },
   {
    "duration": 19205,
    "start_time": "2024-08-11T11:44:58.089Z"
   },
   {
    "duration": 19049,
    "start_time": "2024-08-11T11:45:31.954Z"
   },
   {
    "duration": 5,
    "start_time": "2024-08-11T11:46:30.543Z"
   },
   {
    "duration": 1373,
    "start_time": "2024-08-11T11:46:33.277Z"
   },
   {
    "duration": 301,
    "start_time": "2024-08-11T12:44:15.232Z"
   },
   {
    "duration": 361,
    "start_time": "2024-08-11T12:44:22.454Z"
   },
   {
    "duration": 297,
    "start_time": "2024-08-11T12:44:32.073Z"
   },
   {
    "duration": 296,
    "start_time": "2024-08-11T12:44:50.634Z"
   },
   {
    "duration": 296,
    "start_time": "2024-08-11T12:45:01.270Z"
   },
   {
    "duration": 329,
    "start_time": "2024-08-11T12:45:09.470Z"
   },
   {
    "duration": 315,
    "start_time": "2024-08-11T12:45:16.595Z"
   },
   {
    "duration": 405,
    "start_time": "2024-08-11T12:46:27.167Z"
   },
   {
    "duration": 333,
    "start_time": "2024-08-11T12:46:43.349Z"
   },
   {
    "duration": 310,
    "start_time": "2024-08-11T12:46:53.389Z"
   },
   {
    "duration": 316,
    "start_time": "2024-08-11T12:47:43.220Z"
   },
   {
    "duration": 300,
    "start_time": "2024-08-11T12:51:22.264Z"
   },
   {
    "duration": 375,
    "start_time": "2024-08-11T12:52:04.341Z"
   },
   {
    "duration": 273,
    "start_time": "2024-08-11T12:52:11.090Z"
   },
   {
    "duration": 246,
    "start_time": "2024-08-11T12:52:16.739Z"
   },
   {
    "duration": 277,
    "start_time": "2024-08-11T12:52:25.641Z"
   },
   {
    "duration": 301,
    "start_time": "2024-08-11T12:52:30.690Z"
   },
   {
    "duration": 276,
    "start_time": "2024-08-11T12:52:36.640Z"
   },
   {
    "duration": 331,
    "start_time": "2024-08-11T12:55:24.871Z"
   },
   {
    "duration": 297,
    "start_time": "2024-08-11T12:56:18.003Z"
   },
   {
    "duration": 232,
    "start_time": "2024-08-11T12:56:24.154Z"
   },
   {
    "duration": 242,
    "start_time": "2024-08-11T12:57:45.332Z"
   },
   {
    "duration": 204,
    "start_time": "2024-08-11T13:00:22.027Z"
   },
   {
    "duration": 224,
    "start_time": "2024-08-11T13:00:27.434Z"
   },
   {
    "duration": 234,
    "start_time": "2024-08-11T13:00:34.749Z"
   },
   {
    "duration": 251,
    "start_time": "2024-08-11T13:04:55.352Z"
   },
   {
    "duration": 3199,
    "start_time": "2024-08-11T13:05:57.255Z"
   },
   {
    "duration": 3358,
    "start_time": "2024-08-11T13:06:07.730Z"
   },
   {
    "duration": 6299,
    "start_time": "2024-08-11T13:06:28.626Z"
   },
   {
    "duration": 4785,
    "start_time": "2024-08-11T13:06:58.397Z"
   },
   {
    "duration": 9,
    "start_time": "2024-08-11T13:07:31.863Z"
   },
   {
    "duration": 4753,
    "start_time": "2024-08-11T13:07:47.414Z"
   },
   {
    "duration": 283,
    "start_time": "2024-08-11T13:11:05.267Z"
   },
   {
    "duration": 265,
    "start_time": "2024-08-11T13:11:16.886Z"
   },
   {
    "duration": 288,
    "start_time": "2024-08-11T13:18:17.998Z"
   },
   {
    "duration": 640,
    "start_time": "2024-08-11T13:18:23.342Z"
   },
   {
    "duration": 600,
    "start_time": "2024-08-11T13:18:40.609Z"
   },
   {
    "duration": 1135,
    "start_time": "2024-08-11T13:19:09.561Z"
   },
   {
    "duration": 290,
    "start_time": "2024-08-11T13:43:13.094Z"
   },
   {
    "duration": 165,
    "start_time": "2024-08-11T13:43:20.757Z"
   },
   {
    "duration": 292,
    "start_time": "2024-08-11T13:43:31.344Z"
   },
   {
    "duration": 262,
    "start_time": "2024-08-11T13:44:00.609Z"
   },
   {
    "duration": 221,
    "start_time": "2024-08-11T13:44:44.127Z"
   },
   {
    "duration": 213,
    "start_time": "2024-08-11T13:45:04.112Z"
   },
   {
    "duration": 296,
    "start_time": "2024-08-11T13:48:39.361Z"
   },
   {
    "duration": 352,
    "start_time": "2024-08-11T13:51:05.675Z"
   },
   {
    "duration": 260,
    "start_time": "2024-08-11T13:54:15.702Z"
   },
   {
    "duration": 999,
    "start_time": "2024-08-11T13:56:03.740Z"
   },
   {
    "duration": 1174,
    "start_time": "2024-08-11T13:56:48.832Z"
   },
   {
    "duration": 303,
    "start_time": "2024-08-11T13:57:42.461Z"
   },
   {
    "duration": 6,
    "start_time": "2024-08-11T13:58:16.806Z"
   },
   {
    "duration": 6,
    "start_time": "2024-08-11T13:58:39.046Z"
   },
   {
    "duration": 5,
    "start_time": "2024-08-11T13:58:45.218Z"
   },
   {
    "duration": 298,
    "start_time": "2024-08-11T13:59:34.354Z"
   },
   {
    "duration": 1329,
    "start_time": "2024-08-11T14:00:01.359Z"
   },
   {
    "duration": 45,
    "start_time": "2024-08-11T14:00:02.690Z"
   },
   {
    "duration": 16,
    "start_time": "2024-08-11T14:00:02.736Z"
   },
   {
    "duration": 11,
    "start_time": "2024-08-11T14:00:02.754Z"
   },
   {
    "duration": 38,
    "start_time": "2024-08-11T14:00:02.767Z"
   },
   {
    "duration": 26,
    "start_time": "2024-08-11T14:00:02.807Z"
   },
   {
    "duration": 31,
    "start_time": "2024-08-11T14:00:02.835Z"
   },
   {
    "duration": 7,
    "start_time": "2024-08-11T14:00:02.867Z"
   },
   {
    "duration": 4,
    "start_time": "2024-08-11T14:00:02.875Z"
   },
   {
    "duration": 9,
    "start_time": "2024-08-11T14:00:02.881Z"
   },
   {
    "duration": 3,
    "start_time": "2024-08-11T14:00:02.892Z"
   },
   {
    "duration": 1486,
    "start_time": "2024-08-11T14:00:02.896Z"
   },
   {
    "duration": 9,
    "start_time": "2024-08-11T14:00:04.384Z"
   },
   {
    "duration": 8,
    "start_time": "2024-08-11T14:00:04.395Z"
   },
   {
    "duration": 24,
    "start_time": "2024-08-11T14:00:04.404Z"
   },
   {
    "duration": 10,
    "start_time": "2024-08-11T14:00:04.430Z"
   },
   {
    "duration": 15,
    "start_time": "2024-08-11T14:00:04.441Z"
   },
   {
    "duration": 35,
    "start_time": "2024-08-11T14:00:04.457Z"
   },
   {
    "duration": 315,
    "start_time": "2024-08-11T14:00:04.494Z"
   },
   {
    "duration": 282,
    "start_time": "2024-08-11T14:00:04.810Z"
   },
   {
    "duration": 344,
    "start_time": "2024-08-11T14:00:05.094Z"
   },
   {
    "duration": 310,
    "start_time": "2024-08-11T14:00:05.439Z"
   },
   {
    "duration": 8,
    "start_time": "2024-08-11T14:00:05.750Z"
   },
   {
    "duration": 4527,
    "start_time": "2024-08-11T14:00:05.759Z"
   },
   {
    "duration": 279,
    "start_time": "2024-08-11T14:00:10.287Z"
   },
   {
    "duration": 280,
    "start_time": "2024-08-11T14:00:10.567Z"
   },
   {
    "duration": 6,
    "start_time": "2024-08-11T14:00:10.848Z"
   },
   {
    "duration": 1353,
    "start_time": "2024-08-11T14:00:10.857Z"
   },
   {
    "duration": 283,
    "start_time": "2024-08-11T14:00:12.211Z"
   },
   {
    "duration": 242,
    "start_time": "2024-08-11T14:00:12.496Z"
   },
   {
    "duration": 346,
    "start_time": "2024-08-11T14:00:12.739Z"
   },
   {
    "duration": 255,
    "start_time": "2024-08-11T14:00:13.086Z"
   },
   {
    "duration": 43,
    "start_time": "2024-08-12T15:35:22.883Z"
   },
   {
    "duration": 6439,
    "start_time": "2024-08-12T15:35:27.235Z"
   },
   {
    "duration": 157,
    "start_time": "2024-08-12T15:35:33.676Z"
   },
   {
    "duration": 21,
    "start_time": "2024-08-12T15:35:33.835Z"
   },
   {
    "duration": 12,
    "start_time": "2024-08-12T15:35:33.858Z"
   },
   {
    "duration": 31,
    "start_time": "2024-08-12T15:35:33.872Z"
   },
   {
    "duration": 26,
    "start_time": "2024-08-12T15:35:33.905Z"
   },
   {
    "duration": 6,
    "start_time": "2024-08-12T15:35:33.933Z"
   },
   {
    "duration": 62,
    "start_time": "2024-08-12T15:35:33.940Z"
   },
   {
    "duration": 7,
    "start_time": "2024-08-12T15:35:34.003Z"
   },
   {
    "duration": 16,
    "start_time": "2024-08-12T15:35:34.012Z"
   },
   {
    "duration": 3,
    "start_time": "2024-08-12T15:35:34.030Z"
   },
   {
    "duration": 1364,
    "start_time": "2024-08-12T15:35:34.034Z"
   },
   {
    "duration": 9,
    "start_time": "2024-08-12T15:35:35.400Z"
   },
   {
    "duration": 20,
    "start_time": "2024-08-12T15:35:35.410Z"
   },
   {
    "duration": 39,
    "start_time": "2024-08-12T15:35:35.431Z"
   },
   {
    "duration": 9,
    "start_time": "2024-08-12T15:35:35.471Z"
   },
   {
    "duration": 167,
    "start_time": "2024-08-12T15:35:35.482Z"
   },
   {
    "duration": 20,
    "start_time": "2024-08-12T15:35:35.650Z"
   },
   {
    "duration": 372,
    "start_time": "2024-08-12T15:35:35.671Z"
   },
   {
    "duration": 264,
    "start_time": "2024-08-12T15:35:36.045Z"
   },
   {
    "duration": 299,
    "start_time": "2024-08-12T15:35:36.310Z"
   },
   {
    "duration": 276,
    "start_time": "2024-08-12T15:35:36.611Z"
   },
   {
    "duration": 13,
    "start_time": "2024-08-12T15:35:36.889Z"
   },
   {
    "duration": 3853,
    "start_time": "2024-08-12T15:35:36.903Z"
   },
   {
    "duration": 260,
    "start_time": "2024-08-12T15:35:40.758Z"
   },
   {
    "duration": 254,
    "start_time": "2024-08-12T15:35:41.020Z"
   },
   {
    "duration": 4,
    "start_time": "2024-08-12T15:35:41.276Z"
   },
   {
    "duration": 1173,
    "start_time": "2024-08-12T15:35:41.283Z"
   },
   {
    "duration": 280,
    "start_time": "2024-08-12T15:35:42.458Z"
   },
   {
    "duration": 223,
    "start_time": "2024-08-12T15:35:42.739Z"
   },
   {
    "duration": 304,
    "start_time": "2024-08-12T15:35:42.964Z"
   },
   {
    "duration": 266,
    "start_time": "2024-08-12T15:35:43.270Z"
   },
   {
    "duration": 3,
    "start_time": "2024-08-12T15:35:43.537Z"
   },
   {
    "duration": 78,
    "start_time": "2024-08-12T15:35:43.541Z"
   },
   {
    "duration": 10,
    "start_time": "2024-08-12T15:35:43.620Z"
   },
   {
    "duration": 1259,
    "start_time": "2024-08-12T15:35:43.631Z"
   },
   {
    "duration": 1123,
    "start_time": "2024-08-12T15:35:51.817Z"
   },
   {
    "duration": 3,
    "start_time": "2024-08-12T15:39:05.843Z"
   },
   {
    "duration": 1129,
    "start_time": "2024-08-12T15:39:07.863Z"
   },
   {
    "duration": 1174,
    "start_time": "2024-08-12T15:39:36.393Z"
   },
   {
    "duration": 40,
    "start_time": "2024-08-12T15:39:37.569Z"
   },
   {
    "duration": 14,
    "start_time": "2024-08-12T15:39:37.610Z"
   },
   {
    "duration": 12,
    "start_time": "2024-08-12T15:39:37.626Z"
   },
   {
    "duration": 37,
    "start_time": "2024-08-12T15:39:37.640Z"
   },
   {
    "duration": 39,
    "start_time": "2024-08-12T15:39:37.678Z"
   },
   {
    "duration": 8,
    "start_time": "2024-08-12T15:39:37.718Z"
   },
   {
    "duration": 7,
    "start_time": "2024-08-12T15:39:37.727Z"
   },
   {
    "duration": 3,
    "start_time": "2024-08-12T15:39:37.735Z"
   },
   {
    "duration": 6,
    "start_time": "2024-08-12T15:39:37.741Z"
   },
   {
    "duration": 4,
    "start_time": "2024-08-12T15:39:37.748Z"
   },
   {
    "duration": 1319,
    "start_time": "2024-08-12T15:39:37.753Z"
   },
   {
    "duration": 9,
    "start_time": "2024-08-12T15:39:39.073Z"
   },
   {
    "duration": 14,
    "start_time": "2024-08-12T15:39:39.084Z"
   },
   {
    "duration": 16,
    "start_time": "2024-08-12T15:39:39.099Z"
   },
   {
    "duration": 13,
    "start_time": "2024-08-12T15:39:39.116Z"
   },
   {
    "duration": 9,
    "start_time": "2024-08-12T15:39:39.130Z"
   },
   {
    "duration": 26,
    "start_time": "2024-08-12T15:39:39.140Z"
   },
   {
    "duration": 324,
    "start_time": "2024-08-12T15:39:39.167Z"
   },
   {
    "duration": 281,
    "start_time": "2024-08-12T15:39:39.492Z"
   },
   {
    "duration": 293,
    "start_time": "2024-08-12T15:39:39.774Z"
   },
   {
    "duration": 304,
    "start_time": "2024-08-12T15:39:40.069Z"
   },
   {
    "duration": 7,
    "start_time": "2024-08-12T15:39:40.374Z"
   },
   {
    "duration": 3937,
    "start_time": "2024-08-12T15:39:40.382Z"
   },
   {
    "duration": 259,
    "start_time": "2024-08-12T15:39:44.321Z"
   },
   {
    "duration": 277,
    "start_time": "2024-08-12T15:39:44.582Z"
   },
   {
    "duration": 5,
    "start_time": "2024-08-12T15:39:44.860Z"
   },
   {
    "duration": 1098,
    "start_time": "2024-08-12T15:39:44.869Z"
   },
   {
    "duration": 298,
    "start_time": "2024-08-12T15:39:45.969Z"
   },
   {
    "duration": 282,
    "start_time": "2024-08-12T15:39:46.268Z"
   },
   {
    "duration": 314,
    "start_time": "2024-08-12T15:39:46.552Z"
   },
   {
    "duration": 272,
    "start_time": "2024-08-12T15:39:46.867Z"
   },
   {
    "duration": 3,
    "start_time": "2024-08-12T15:39:47.140Z"
   },
   {
    "duration": 37,
    "start_time": "2024-08-12T15:39:47.144Z"
   },
   {
    "duration": 36,
    "start_time": "2024-08-12T15:39:47.182Z"
   },
   {
    "duration": 1082,
    "start_time": "2024-08-12T15:39:47.219Z"
   },
   {
    "duration": 11,
    "start_time": "2024-08-12T16:27:47.398Z"
   },
   {
    "duration": 12,
    "start_time": "2024-08-12T16:28:02.803Z"
   },
   {
    "duration": 10,
    "start_time": "2024-08-12T16:28:09.989Z"
   },
   {
    "duration": 10,
    "start_time": "2024-08-12T16:29:26.127Z"
   },
   {
    "duration": 111,
    "start_time": "2024-08-12T16:45:06.000Z"
   },
   {
    "duration": 5,
    "start_time": "2024-08-12T16:45:24.115Z"
   },
   {
    "duration": 5,
    "start_time": "2024-08-12T16:50:53.570Z"
   },
   {
    "duration": 8275,
    "start_time": "2024-08-13T14:14:26.532Z"
   },
   {
    "duration": 165,
    "start_time": "2024-08-13T14:14:34.810Z"
   },
   {
    "duration": 17,
    "start_time": "2024-08-13T14:14:34.977Z"
   },
   {
    "duration": 100,
    "start_time": "2024-08-13T14:14:34.995Z"
   },
   {
    "duration": 40,
    "start_time": "2024-08-13T14:14:35.096Z"
   },
   {
    "duration": 22,
    "start_time": "2024-08-13T14:14:35.138Z"
   },
   {
    "duration": 9,
    "start_time": "2024-08-13T14:14:35.162Z"
   },
   {
    "duration": 9,
    "start_time": "2024-08-13T14:14:35.173Z"
   },
   {
    "duration": 22,
    "start_time": "2024-08-13T14:14:35.184Z"
   },
   {
    "duration": 17,
    "start_time": "2024-08-13T14:14:35.209Z"
   },
   {
    "duration": 21,
    "start_time": "2024-08-13T14:14:35.227Z"
   },
   {
    "duration": 1680,
    "start_time": "2024-08-13T14:14:35.249Z"
   },
   {
    "duration": 11,
    "start_time": "2024-08-13T14:14:36.931Z"
   },
   {
    "duration": 5,
    "start_time": "2024-08-13T14:14:36.945Z"
   },
   {
    "duration": 125,
    "start_time": "2024-08-13T14:14:36.952Z"
   },
   {
    "duration": 13,
    "start_time": "2024-08-13T14:14:37.079Z"
   },
   {
    "duration": 18,
    "start_time": "2024-08-13T14:14:37.094Z"
   },
   {
    "duration": 14,
    "start_time": "2024-08-13T14:14:37.113Z"
   },
   {
    "duration": 381,
    "start_time": "2024-08-13T14:14:37.129Z"
   },
   {
    "duration": 319,
    "start_time": "2024-08-13T14:14:37.511Z"
   },
   {
    "duration": 387,
    "start_time": "2024-08-13T14:14:37.831Z"
   },
   {
    "duration": 296,
    "start_time": "2024-08-13T14:14:38.220Z"
   },
   {
    "duration": 8,
    "start_time": "2024-08-13T14:14:38.518Z"
   },
   {
    "duration": 5318,
    "start_time": "2024-08-13T14:14:38.527Z"
   },
   {
    "duration": 370,
    "start_time": "2024-08-13T14:14:43.847Z"
   },
   {
    "duration": 303,
    "start_time": "2024-08-13T14:14:44.219Z"
   },
   {
    "duration": 6,
    "start_time": "2024-08-13T14:14:44.523Z"
   },
   {
    "duration": 1627,
    "start_time": "2024-08-13T14:14:44.533Z"
   },
   {
    "duration": 314,
    "start_time": "2024-08-13T14:14:46.162Z"
   },
   {
    "duration": 283,
    "start_time": "2024-08-13T14:14:46.477Z"
   },
   {
    "duration": 416,
    "start_time": "2024-08-13T14:14:46.762Z"
   },
   {
    "duration": 306,
    "start_time": "2024-08-13T14:14:47.180Z"
   },
   {
    "duration": 3,
    "start_time": "2024-08-13T14:14:47.488Z"
   },
   {
    "duration": 14,
    "start_time": "2024-08-13T14:14:47.493Z"
   },
   {
    "duration": 13,
    "start_time": "2024-08-13T14:14:47.509Z"
   },
   {
    "duration": 1512,
    "start_time": "2024-08-13T14:14:47.523Z"
   },
   {
    "duration": 13,
    "start_time": "2024-08-13T14:14:49.037Z"
   },
   {
    "duration": 32,
    "start_time": "2024-08-13T14:14:49.052Z"
   },
   {
    "duration": 8,
    "start_time": "2024-08-13T14:14:49.085Z"
   },
   {
    "duration": 30,
    "start_time": "2024-08-13T14:14:49.094Z"
   },
   {
    "duration": 6,
    "start_time": "2024-08-13T14:59:16.619Z"
   },
   {
    "duration": 5,
    "start_time": "2024-08-13T14:59:24.647Z"
   },
   {
    "duration": 135,
    "start_time": "2024-08-13T15:19:17.476Z"
   },
   {
    "duration": 27,
    "start_time": "2024-08-13T15:20:56.429Z"
   },
   {
    "duration": 14,
    "start_time": "2024-08-13T15:21:10.729Z"
   },
   {
    "duration": 12,
    "start_time": "2024-08-13T15:22:00.947Z"
   },
   {
    "duration": 12,
    "start_time": "2024-08-13T15:22:05.176Z"
   },
   {
    "duration": 14,
    "start_time": "2024-08-13T15:22:20.581Z"
   },
   {
    "duration": 13,
    "start_time": "2024-08-13T15:22:43.027Z"
   },
   {
    "duration": 14,
    "start_time": "2024-08-13T15:24:19.149Z"
   },
   {
    "duration": 12,
    "start_time": "2024-08-13T15:24:44.592Z"
   },
   {
    "duration": 12,
    "start_time": "2024-08-13T15:24:46.517Z"
   },
   {
    "duration": 11,
    "start_time": "2024-08-13T15:25:13.677Z"
   },
   {
    "duration": 12,
    "start_time": "2024-08-13T15:25:49.833Z"
   },
   {
    "duration": 1416,
    "start_time": "2024-08-13T15:26:00.437Z"
   },
   {
    "duration": 46,
    "start_time": "2024-08-13T15:26:01.855Z"
   },
   {
    "duration": 17,
    "start_time": "2024-08-13T15:26:01.902Z"
   },
   {
    "duration": 61,
    "start_time": "2024-08-13T15:26:01.921Z"
   },
   {
    "duration": 171,
    "start_time": "2024-08-13T15:26:01.983Z"
   },
   {
    "duration": 56,
    "start_time": "2024-08-13T15:26:02.155Z"
   },
   {
    "duration": 21,
    "start_time": "2024-08-13T15:26:02.212Z"
   },
   {
    "duration": 51,
    "start_time": "2024-08-13T15:26:02.235Z"
   },
   {
    "duration": 51,
    "start_time": "2024-08-13T15:26:02.288Z"
   },
   {
    "duration": 28,
    "start_time": "2024-08-13T15:26:02.342Z"
   },
   {
    "duration": 124,
    "start_time": "2024-08-13T15:26:02.372Z"
   },
   {
    "duration": 1679,
    "start_time": "2024-08-13T15:26:02.498Z"
   },
   {
    "duration": 15,
    "start_time": "2024-08-13T15:26:04.180Z"
   },
   {
    "duration": 5,
    "start_time": "2024-08-13T15:26:04.197Z"
   },
   {
    "duration": 48,
    "start_time": "2024-08-13T15:26:04.204Z"
   },
   {
    "duration": 26,
    "start_time": "2024-08-13T15:26:04.253Z"
   },
   {
    "duration": 21,
    "start_time": "2024-08-13T15:26:04.281Z"
   },
   {
    "duration": 17,
    "start_time": "2024-08-13T15:26:04.304Z"
   },
   {
    "duration": 368,
    "start_time": "2024-08-13T15:26:04.323Z"
   },
   {
    "duration": 337,
    "start_time": "2024-08-13T15:26:04.692Z"
   },
   {
    "duration": 341,
    "start_time": "2024-08-13T15:26:05.030Z"
   },
   {
    "duration": 333,
    "start_time": "2024-08-13T15:26:05.372Z"
   },
   {
    "duration": 8,
    "start_time": "2024-08-13T15:26:05.707Z"
   },
   {
    "duration": 5332,
    "start_time": "2024-08-13T15:26:05.716Z"
   },
   {
    "duration": 312,
    "start_time": "2024-08-13T15:26:11.050Z"
   },
   {
    "duration": 304,
    "start_time": "2024-08-13T15:26:11.364Z"
   },
   {
    "duration": 6,
    "start_time": "2024-08-13T15:26:11.669Z"
   },
   {
    "duration": 1512,
    "start_time": "2024-08-13T15:26:11.678Z"
   },
   {
    "duration": 325,
    "start_time": "2024-08-13T15:26:13.191Z"
   },
   {
    "duration": 273,
    "start_time": "2024-08-13T15:26:13.517Z"
   },
   {
    "duration": 389,
    "start_time": "2024-08-13T15:26:13.792Z"
   },
   {
    "duration": 295,
    "start_time": "2024-08-13T15:26:14.182Z"
   },
   {
    "duration": 4,
    "start_time": "2024-08-13T15:26:14.478Z"
   },
   {
    "duration": 22,
    "start_time": "2024-08-13T15:26:14.483Z"
   },
   {
    "duration": 3,
    "start_time": "2024-08-13T15:26:14.507Z"
   },
   {
    "duration": 1442,
    "start_time": "2024-08-13T15:26:14.512Z"
   },
   {
    "duration": 14,
    "start_time": "2024-08-13T15:26:15.957Z"
   },
   {
    "duration": 36,
    "start_time": "2024-08-13T15:26:15.973Z"
   },
   {
    "duration": 23,
    "start_time": "2024-08-13T15:26:16.011Z"
   },
   {
    "duration": 7,
    "start_time": "2024-08-13T15:26:16.036Z"
   },
   {
    "duration": 5,
    "start_time": "2024-08-13T15:26:16.045Z"
   },
   {
    "duration": 17,
    "start_time": "2024-08-13T15:26:16.052Z"
   },
   {
    "duration": 112,
    "start_time": "2024-08-13T15:32:05.499Z"
   },
   {
    "duration": 15,
    "start_time": "2024-08-13T15:32:13.012Z"
   },
   {
    "duration": 46,
    "start_time": "2024-08-13T15:34:04.472Z"
   },
   {
    "duration": 14,
    "start_time": "2024-08-13T15:34:11.585Z"
   },
   {
    "duration": 13,
    "start_time": "2024-08-13T15:34:28.658Z"
   },
   {
    "duration": 16,
    "start_time": "2024-08-13T15:35:44.531Z"
   },
   {
    "duration": 14,
    "start_time": "2024-08-13T15:36:05.276Z"
   },
   {
    "duration": 17,
    "start_time": "2024-08-13T15:37:53.784Z"
   },
   {
    "duration": 14,
    "start_time": "2024-08-13T15:43:10.332Z"
   },
   {
    "duration": 14,
    "start_time": "2024-08-13T15:43:36.367Z"
   },
   {
    "duration": 1320,
    "start_time": "2024-08-13T15:43:48.728Z"
   },
   {
    "duration": 46,
    "start_time": "2024-08-13T15:43:50.050Z"
   },
   {
    "duration": 18,
    "start_time": "2024-08-13T15:43:50.098Z"
   },
   {
    "duration": 17,
    "start_time": "2024-08-13T15:43:50.118Z"
   },
   {
    "duration": 40,
    "start_time": "2024-08-13T15:43:50.137Z"
   },
   {
    "duration": 48,
    "start_time": "2024-08-13T15:43:50.178Z"
   },
   {
    "duration": 13,
    "start_time": "2024-08-13T15:43:50.228Z"
   },
   {
    "duration": 21,
    "start_time": "2024-08-13T15:43:50.243Z"
   },
   {
    "duration": 37,
    "start_time": "2024-08-13T15:43:50.266Z"
   },
   {
    "duration": 9,
    "start_time": "2024-08-13T15:43:50.306Z"
   },
   {
    "duration": 4,
    "start_time": "2024-08-13T15:43:50.317Z"
   },
   {
    "duration": 1694,
    "start_time": "2024-08-13T15:43:50.323Z"
   },
   {
    "duration": 12,
    "start_time": "2024-08-13T15:43:52.019Z"
   },
   {
    "duration": 8,
    "start_time": "2024-08-13T15:43:52.033Z"
   },
   {
    "duration": 41,
    "start_time": "2024-08-13T15:43:52.043Z"
   },
   {
    "duration": 13,
    "start_time": "2024-08-13T15:43:52.085Z"
   },
   {
    "duration": 37,
    "start_time": "2024-08-13T15:43:52.099Z"
   },
   {
    "duration": 19,
    "start_time": "2024-08-13T15:43:52.138Z"
   },
   {
    "duration": 371,
    "start_time": "2024-08-13T15:43:52.159Z"
   },
   {
    "duration": 340,
    "start_time": "2024-08-13T15:43:52.532Z"
   },
   {
    "duration": 408,
    "start_time": "2024-08-13T15:43:52.874Z"
   },
   {
    "duration": 353,
    "start_time": "2024-08-13T15:43:53.283Z"
   },
   {
    "duration": 9,
    "start_time": "2024-08-13T15:43:53.637Z"
   },
   {
    "duration": 5522,
    "start_time": "2024-08-13T15:43:53.648Z"
   },
   {
    "duration": 321,
    "start_time": "2024-08-13T15:43:59.171Z"
   },
   {
    "duration": 304,
    "start_time": "2024-08-13T15:43:59.494Z"
   },
   {
    "duration": 6,
    "start_time": "2024-08-13T15:43:59.805Z"
   },
   {
    "duration": 1627,
    "start_time": "2024-08-13T15:43:59.815Z"
   },
   {
    "duration": 297,
    "start_time": "2024-08-13T15:44:01.444Z"
   },
   {
    "duration": 262,
    "start_time": "2024-08-13T15:44:01.743Z"
   },
   {
    "duration": 374,
    "start_time": "2024-08-13T15:44:02.007Z"
   },
   {
    "duration": 301,
    "start_time": "2024-08-13T15:44:02.383Z"
   },
   {
    "duration": 3,
    "start_time": "2024-08-13T15:44:02.686Z"
   },
   {
    "duration": 15,
    "start_time": "2024-08-13T15:44:02.691Z"
   },
   {
    "duration": 24,
    "start_time": "2024-08-13T15:44:02.708Z"
   },
   {
    "duration": 1520,
    "start_time": "2024-08-13T15:44:02.734Z"
   },
   {
    "duration": 15,
    "start_time": "2024-08-13T15:44:04.256Z"
   },
   {
    "duration": 31,
    "start_time": "2024-08-13T15:44:04.274Z"
   },
   {
    "duration": 7,
    "start_time": "2024-08-13T15:44:04.307Z"
   },
   {
    "duration": 12,
    "start_time": "2024-08-13T15:44:04.316Z"
   },
   {
    "duration": 6,
    "start_time": "2024-08-13T15:44:04.331Z"
   },
   {
    "duration": 27,
    "start_time": "2024-08-13T15:44:04.339Z"
   },
   {
    "duration": 43,
    "start_time": "2024-08-13T15:44:04.368Z"
   },
   {
    "duration": 13,
    "start_time": "2024-08-13T15:44:12.768Z"
   },
   {
    "duration": 53,
    "start_time": "2024-08-13T15:44:35.981Z"
   },
   {
    "duration": 13,
    "start_time": "2024-08-13T15:44:46.672Z"
   },
   {
    "duration": 15,
    "start_time": "2024-08-13T15:45:06.564Z"
   },
   {
    "duration": 13,
    "start_time": "2024-08-13T15:45:49.897Z"
   },
   {
    "duration": 124,
    "start_time": "2024-08-13T15:54:24.406Z"
   },
   {
    "duration": 16,
    "start_time": "2024-08-13T15:55:10.567Z"
   },
   {
    "duration": 17,
    "start_time": "2024-08-13T15:56:02.493Z"
   },
   {
    "duration": 62,
    "start_time": "2024-08-13T15:56:21.234Z"
   },
   {
    "duration": 15,
    "start_time": "2024-08-13T15:56:28.175Z"
   },
   {
    "duration": 17,
    "start_time": "2024-08-13T15:56:39.775Z"
   },
   {
    "duration": 15,
    "start_time": "2024-08-13T15:56:49.120Z"
   },
   {
    "duration": 17,
    "start_time": "2024-08-13T15:56:58.435Z"
   },
   {
    "duration": 16,
    "start_time": "2024-08-13T15:57:04.445Z"
   },
   {
    "duration": 9,
    "start_time": "2024-08-13T16:19:56.620Z"
   },
   {
    "duration": 4,
    "start_time": "2024-08-13T16:21:19.837Z"
   },
   {
    "duration": 5,
    "start_time": "2024-08-13T16:21:30.333Z"
   },
   {
    "duration": 16,
    "start_time": "2024-08-13T16:36:51.001Z"
   },
   {
    "duration": 15,
    "start_time": "2024-08-13T16:37:16.857Z"
   },
   {
    "duration": 12,
    "start_time": "2024-08-13T16:37:47.431Z"
   },
   {
    "duration": 9,
    "start_time": "2024-08-13T16:37:57.108Z"
   },
   {
    "duration": 10,
    "start_time": "2024-08-13T16:38:35.768Z"
   },
   {
    "duration": 16,
    "start_time": "2024-08-13T16:38:39.699Z"
   },
   {
    "duration": 10,
    "start_time": "2024-08-13T16:38:41.249Z"
   },
   {
    "duration": 6492,
    "start_time": "2024-08-13T19:54:36.169Z"
   },
   {
    "duration": 170,
    "start_time": "2024-08-13T19:54:42.663Z"
   },
   {
    "duration": 16,
    "start_time": "2024-08-13T19:54:42.835Z"
   },
   {
    "duration": 11,
    "start_time": "2024-08-13T19:54:42.852Z"
   },
   {
    "duration": 30,
    "start_time": "2024-08-13T19:54:42.864Z"
   },
   {
    "duration": 17,
    "start_time": "2024-08-13T19:54:42.895Z"
   },
   {
    "duration": 5,
    "start_time": "2024-08-13T19:54:42.914Z"
   },
   {
    "duration": 7,
    "start_time": "2024-08-13T19:54:42.921Z"
   },
   {
    "duration": 3,
    "start_time": "2024-08-13T19:54:42.929Z"
   },
   {
    "duration": 7,
    "start_time": "2024-08-13T19:54:42.934Z"
   },
   {
    "duration": 3,
    "start_time": "2024-08-13T19:54:42.942Z"
   },
   {
    "duration": 1406,
    "start_time": "2024-08-13T19:54:42.946Z"
   },
   {
    "duration": 9,
    "start_time": "2024-08-13T19:54:44.353Z"
   },
   {
    "duration": 29,
    "start_time": "2024-08-13T19:54:44.363Z"
   },
   {
    "duration": 16,
    "start_time": "2024-08-13T19:54:44.394Z"
   },
   {
    "duration": 10,
    "start_time": "2024-08-13T19:54:44.411Z"
   },
   {
    "duration": 9,
    "start_time": "2024-08-13T19:54:44.422Z"
   },
   {
    "duration": 12,
    "start_time": "2024-08-13T19:54:44.432Z"
   },
   {
    "duration": 293,
    "start_time": "2024-08-13T19:54:44.445Z"
   },
   {
    "duration": 264,
    "start_time": "2024-08-13T19:54:44.739Z"
   },
   {
    "duration": 286,
    "start_time": "2024-08-13T19:54:45.004Z"
   },
   {
    "duration": 285,
    "start_time": "2024-08-13T19:54:45.291Z"
   },
   {
    "duration": 7,
    "start_time": "2024-08-13T19:54:45.577Z"
   },
   {
    "duration": 3814,
    "start_time": "2024-08-13T19:54:45.585Z"
   },
   {
    "duration": 256,
    "start_time": "2024-08-13T19:54:49.402Z"
   },
   {
    "duration": 270,
    "start_time": "2024-08-13T19:54:49.659Z"
   },
   {
    "duration": 5,
    "start_time": "2024-08-13T19:54:49.930Z"
   },
   {
    "duration": 1137,
    "start_time": "2024-08-13T19:54:49.938Z"
   },
   {
    "duration": 291,
    "start_time": "2024-08-13T19:54:51.076Z"
   },
   {
    "duration": 270,
    "start_time": "2024-08-13T19:54:51.368Z"
   },
   {
    "duration": 312,
    "start_time": "2024-08-13T19:54:51.639Z"
   },
   {
    "duration": 217,
    "start_time": "2024-08-13T19:54:51.953Z"
   },
   {
    "duration": 32,
    "start_time": "2024-08-13T19:54:52.171Z"
   },
   {
    "duration": 11,
    "start_time": "2024-08-13T19:54:52.204Z"
   },
   {
    "duration": 24,
    "start_time": "2024-08-13T19:54:52.217Z"
   },
   {
    "duration": 1138,
    "start_time": "2024-08-13T19:54:52.243Z"
   },
   {
    "duration": 19,
    "start_time": "2024-08-13T19:54:53.383Z"
   },
   {
    "duration": 16,
    "start_time": "2024-08-13T19:54:53.403Z"
   },
   {
    "duration": 82,
    "start_time": "2024-08-13T19:54:53.420Z"
   },
   {
    "duration": 31,
    "start_time": "2024-08-13T19:54:53.503Z"
   },
   {
    "duration": 13,
    "start_time": "2024-08-13T19:54:53.535Z"
   },
   {
    "duration": 26,
    "start_time": "2024-08-13T19:54:53.550Z"
   },
   {
    "duration": 23,
    "start_time": "2024-08-13T19:54:53.577Z"
   },
   {
    "duration": 28,
    "start_time": "2024-08-13T19:54:53.601Z"
   },
   {
    "duration": 45,
    "start_time": "2024-08-13T19:54:53.631Z"
   },
   {
    "duration": 1135,
    "start_time": "2024-08-13T20:45:05.355Z"
   },
   {
    "duration": 40,
    "start_time": "2024-08-13T20:45:06.492Z"
   },
   {
    "duration": 14,
    "start_time": "2024-08-13T20:45:06.533Z"
   },
   {
    "duration": 11,
    "start_time": "2024-08-13T20:45:06.548Z"
   },
   {
    "duration": 32,
    "start_time": "2024-08-13T20:45:06.560Z"
   },
   {
    "duration": 23,
    "start_time": "2024-08-13T20:45:06.593Z"
   },
   {
    "duration": 6,
    "start_time": "2024-08-13T20:45:06.617Z"
   },
   {
    "duration": 7,
    "start_time": "2024-08-13T20:45:06.624Z"
   },
   {
    "duration": 3,
    "start_time": "2024-08-13T20:45:06.632Z"
   },
   {
    "duration": 7,
    "start_time": "2024-08-13T20:45:06.636Z"
   },
   {
    "duration": 2,
    "start_time": "2024-08-13T20:45:06.644Z"
   },
   {
    "duration": 1365,
    "start_time": "2024-08-13T20:45:06.647Z"
   },
   {
    "duration": 9,
    "start_time": "2024-08-13T20:45:08.013Z"
   },
   {
    "duration": 88,
    "start_time": "2024-08-13T20:45:08.024Z"
   },
   {
    "duration": 20,
    "start_time": "2024-08-13T20:45:08.113Z"
   },
   {
    "duration": 10,
    "start_time": "2024-08-13T20:45:08.134Z"
   },
   {
    "duration": 14,
    "start_time": "2024-08-13T20:45:08.145Z"
   },
   {
    "duration": 26,
    "start_time": "2024-08-13T20:45:08.160Z"
   },
   {
    "duration": 310,
    "start_time": "2024-08-13T20:45:08.187Z"
   },
   {
    "duration": 257,
    "start_time": "2024-08-13T20:45:08.501Z"
   },
   {
    "duration": 293,
    "start_time": "2024-08-13T20:45:08.759Z"
   },
   {
    "duration": 313,
    "start_time": "2024-08-13T20:45:09.053Z"
   },
   {
    "duration": 7,
    "start_time": "2024-08-13T20:45:09.368Z"
   },
   {
    "duration": 3956,
    "start_time": "2024-08-13T20:45:09.376Z"
   },
   {
    "duration": 256,
    "start_time": "2024-08-13T20:45:13.333Z"
   },
   {
    "duration": 278,
    "start_time": "2024-08-13T20:45:13.590Z"
   },
   {
    "duration": 5,
    "start_time": "2024-08-13T20:45:13.869Z"
   },
   {
    "duration": 1112,
    "start_time": "2024-08-13T20:45:13.877Z"
   },
   {
    "duration": 281,
    "start_time": "2024-08-13T20:45:14.990Z"
   },
   {
    "duration": 271,
    "start_time": "2024-08-13T20:45:15.272Z"
   },
   {
    "duration": 321,
    "start_time": "2024-08-13T20:45:15.544Z"
   },
   {
    "duration": 280,
    "start_time": "2024-08-13T20:45:15.867Z"
   },
   {
    "duration": 3,
    "start_time": "2024-08-13T20:45:16.148Z"
   },
   {
    "duration": 19,
    "start_time": "2024-08-13T20:45:16.152Z"
   },
   {
    "duration": 14,
    "start_time": "2024-08-13T20:45:16.172Z"
   },
   {
    "duration": 1113,
    "start_time": "2024-08-13T20:45:16.188Z"
   },
   {
    "duration": 14,
    "start_time": "2024-08-13T20:45:17.303Z"
   },
   {
    "duration": 27,
    "start_time": "2024-08-13T20:45:17.318Z"
   },
   {
    "duration": 5,
    "start_time": "2024-08-13T20:45:17.346Z"
   },
   {
    "duration": 21,
    "start_time": "2024-08-13T20:45:17.352Z"
   },
   {
    "duration": 77,
    "start_time": "2024-08-13T20:45:17.374Z"
   },
   {
    "duration": 18,
    "start_time": "2024-08-13T20:45:17.452Z"
   },
   {
    "duration": 11,
    "start_time": "2024-08-13T20:45:17.471Z"
   },
   {
    "duration": 34,
    "start_time": "2024-08-13T20:45:17.484Z"
   },
   {
    "duration": 13,
    "start_time": "2024-08-13T20:45:17.519Z"
   },
   {
    "duration": 5614,
    "start_time": "2024-08-14T05:20:28.993Z"
   },
   {
    "duration": 176,
    "start_time": "2024-08-14T05:20:34.609Z"
   },
   {
    "duration": 17,
    "start_time": "2024-08-14T05:20:34.787Z"
   },
   {
    "duration": 30,
    "start_time": "2024-08-14T05:20:34.806Z"
   },
   {
    "duration": 41,
    "start_time": "2024-08-14T05:20:34.839Z"
   },
   {
    "duration": 22,
    "start_time": "2024-08-14T05:20:34.882Z"
   },
   {
    "duration": 7,
    "start_time": "2024-08-14T05:20:34.906Z"
   },
   {
    "duration": 157,
    "start_time": "2024-08-14T05:20:34.915Z"
   },
   {
    "duration": 3,
    "start_time": "2024-08-14T05:20:35.073Z"
   },
   {
    "duration": 7,
    "start_time": "2024-08-14T05:20:35.077Z"
   },
   {
    "duration": 2,
    "start_time": "2024-08-14T05:20:35.085Z"
   },
   {
    "duration": 1711,
    "start_time": "2024-08-14T05:20:35.089Z"
   },
   {
    "duration": 11,
    "start_time": "2024-08-14T05:20:36.801Z"
   },
   {
    "duration": 14,
    "start_time": "2024-08-14T05:20:36.815Z"
   },
   {
    "duration": 21,
    "start_time": "2024-08-14T05:20:36.831Z"
   },
   {
    "duration": 15,
    "start_time": "2024-08-14T05:20:36.859Z"
   },
   {
    "duration": 20,
    "start_time": "2024-08-14T05:20:36.875Z"
   },
   {
    "duration": 110,
    "start_time": "2024-08-14T05:20:36.897Z"
   },
   {
    "duration": 494,
    "start_time": "2024-08-14T05:20:37.009Z"
   },
   {
    "duration": 359,
    "start_time": "2024-08-14T05:20:37.504Z"
   },
   {
    "duration": 379,
    "start_time": "2024-08-14T05:20:37.868Z"
   },
   {
    "duration": 324,
    "start_time": "2024-08-14T05:20:38.253Z"
   },
   {
    "duration": 9,
    "start_time": "2024-08-14T05:20:38.579Z"
   },
   {
    "duration": 5438,
    "start_time": "2024-08-14T05:20:38.589Z"
   },
   {
    "duration": 348,
    "start_time": "2024-08-14T05:20:44.029Z"
   },
   {
    "duration": 294,
    "start_time": "2024-08-14T05:20:44.379Z"
   },
   {
    "duration": 5,
    "start_time": "2024-08-14T05:20:44.675Z"
   },
   {
    "duration": 1556,
    "start_time": "2024-08-14T05:20:44.682Z"
   },
   {
    "duration": 336,
    "start_time": "2024-08-14T05:20:46.239Z"
   },
   {
    "duration": 274,
    "start_time": "2024-08-14T05:20:46.580Z"
   },
   {
    "duration": 391,
    "start_time": "2024-08-14T05:20:46.855Z"
   },
   {
    "duration": 287,
    "start_time": "2024-08-14T05:20:47.248Z"
   },
   {
    "duration": 3,
    "start_time": "2024-08-14T05:20:47.537Z"
   },
   {
    "duration": 22,
    "start_time": "2024-08-14T05:20:47.542Z"
   },
   {
    "duration": 15,
    "start_time": "2024-08-14T05:20:47.569Z"
   },
   {
    "duration": 1472,
    "start_time": "2024-08-14T05:20:47.586Z"
   },
   {
    "duration": 13,
    "start_time": "2024-08-14T05:20:49.069Z"
   },
   {
    "duration": 19,
    "start_time": "2024-08-14T05:20:49.084Z"
   },
   {
    "duration": 6,
    "start_time": "2024-08-14T05:20:49.105Z"
   },
   {
    "duration": 6,
    "start_time": "2024-08-14T05:20:49.113Z"
   },
   {
    "duration": 11,
    "start_time": "2024-08-14T05:20:49.123Z"
   },
   {
    "duration": 38,
    "start_time": "2024-08-14T05:20:49.136Z"
   },
   {
    "duration": 17,
    "start_time": "2024-08-14T05:20:49.176Z"
   },
   {
    "duration": 16,
    "start_time": "2024-08-14T05:20:49.195Z"
   },
   {
    "duration": 9,
    "start_time": "2024-08-14T05:20:49.213Z"
   },
   {
    "duration": 8153,
    "start_time": "2024-08-14T13:28:29.031Z"
   },
   {
    "duration": 106,
    "start_time": "2024-08-14T13:28:37.186Z"
   },
   {
    "duration": 16,
    "start_time": "2024-08-14T13:28:37.294Z"
   },
   {
    "duration": 23,
    "start_time": "2024-08-14T13:28:37.312Z"
   },
   {
    "duration": 37,
    "start_time": "2024-08-14T13:28:37.336Z"
   },
   {
    "duration": 20,
    "start_time": "2024-08-14T13:28:37.375Z"
   },
   {
    "duration": 20,
    "start_time": "2024-08-14T13:28:37.396Z"
   },
   {
    "duration": 19,
    "start_time": "2024-08-14T13:28:37.417Z"
   },
   {
    "duration": 9,
    "start_time": "2024-08-14T13:28:37.438Z"
   },
   {
    "duration": 7,
    "start_time": "2024-08-14T13:28:37.449Z"
   },
   {
    "duration": 2,
    "start_time": "2024-08-14T13:28:37.458Z"
   },
   {
    "duration": 1552,
    "start_time": "2024-08-14T13:28:37.462Z"
   },
   {
    "duration": 10,
    "start_time": "2024-08-14T13:28:39.016Z"
   },
   {
    "duration": 8,
    "start_time": "2024-08-14T13:28:39.027Z"
   },
   {
    "duration": 41,
    "start_time": "2024-08-14T13:28:39.036Z"
   },
   {
    "duration": 12,
    "start_time": "2024-08-14T13:28:39.078Z"
   },
   {
    "duration": 48,
    "start_time": "2024-08-14T13:28:39.091Z"
   },
   {
    "duration": 18,
    "start_time": "2024-08-14T13:28:39.141Z"
   },
   {
    "duration": 363,
    "start_time": "2024-08-14T13:28:39.161Z"
   },
   {
    "duration": 384,
    "start_time": "2024-08-14T13:28:39.526Z"
   },
   {
    "duration": 272,
    "start_time": "2024-08-14T13:28:39.912Z"
   },
   {
    "duration": 307,
    "start_time": "2024-08-14T13:28:40.185Z"
   },
   {
    "duration": 8,
    "start_time": "2024-08-14T13:28:40.494Z"
   },
   {
    "duration": 4855,
    "start_time": "2024-08-14T13:28:40.504Z"
   },
   {
    "duration": 601,
    "start_time": "2024-08-14T13:28:45.361Z"
   },
   {
    "duration": 290,
    "start_time": "2024-08-14T13:28:45.964Z"
   },
   {
    "duration": 5,
    "start_time": "2024-08-14T13:28:46.256Z"
   },
   {
    "duration": 1161,
    "start_time": "2024-08-14T13:28:46.265Z"
   },
   {
    "duration": 382,
    "start_time": "2024-08-14T13:28:47.427Z"
   },
   {
    "duration": 235,
    "start_time": "2024-08-14T13:28:47.811Z"
   },
   {
    "duration": 290,
    "start_time": "2024-08-14T13:28:48.048Z"
   },
   {
    "duration": 291,
    "start_time": "2024-08-14T13:28:48.339Z"
   },
   {
    "duration": 2,
    "start_time": "2024-08-14T13:28:48.632Z"
   },
   {
    "duration": 14,
    "start_time": "2024-08-14T13:28:48.635Z"
   },
   {
    "duration": 12,
    "start_time": "2024-08-14T13:28:48.651Z"
   },
   {
    "duration": 1329,
    "start_time": "2024-08-14T13:28:48.665Z"
   },
   {
    "duration": 13,
    "start_time": "2024-08-14T13:28:49.996Z"
   },
   {
    "duration": 34,
    "start_time": "2024-08-14T13:28:50.011Z"
   },
   {
    "duration": 6,
    "start_time": "2024-08-14T13:28:50.046Z"
   },
   {
    "duration": 13,
    "start_time": "2024-08-14T13:28:50.053Z"
   },
   {
    "duration": 31,
    "start_time": "2024-08-14T13:28:50.067Z"
   },
   {
    "duration": 21,
    "start_time": "2024-08-14T13:28:50.100Z"
   },
   {
    "duration": 16,
    "start_time": "2024-08-14T13:28:50.123Z"
   },
   {
    "duration": 17,
    "start_time": "2024-08-14T13:28:50.141Z"
   },
   {
    "duration": 9,
    "start_time": "2024-08-14T13:28:50.159Z"
   },
   {
    "duration": 1174,
    "start_time": "2024-08-14T14:17:25.437Z"
   },
   {
    "duration": 310,
    "start_time": "2024-08-14T14:18:22.643Z"
   },
   {
    "duration": 247,
    "start_time": "2024-08-14T14:18:38.707Z"
   },
   {
    "duration": 262,
    "start_time": "2024-08-14T14:19:10.265Z"
   },
   {
    "duration": 231,
    "start_time": "2024-08-14T14:22:09.270Z"
   },
   {
    "duration": 360,
    "start_time": "2024-08-14T14:22:19.709Z"
   },
   {
    "duration": 209,
    "start_time": "2024-08-14T14:29:19.551Z"
   },
   {
    "duration": 228,
    "start_time": "2024-08-14T14:29:24.195Z"
   },
   {
    "duration": 248,
    "start_time": "2024-08-14T14:29:41.497Z"
   },
   {
    "duration": 228,
    "start_time": "2024-08-14T14:29:57.287Z"
   },
   {
    "duration": 233,
    "start_time": "2024-08-14T14:37:25.799Z"
   },
   {
    "duration": 239,
    "start_time": "2024-08-14T14:37:32.138Z"
   },
   {
    "duration": 232,
    "start_time": "2024-08-14T14:37:45.490Z"
   },
   {
    "duration": 10,
    "start_time": "2024-08-14T14:59:03.094Z"
   },
   {
    "duration": 397,
    "start_time": "2024-08-14T14:59:31.647Z"
   },
   {
    "duration": 4880,
    "start_time": "2024-08-14T15:01:10.295Z"
   },
   {
    "duration": 1431,
    "start_time": "2024-08-14T15:02:50.269Z"
   },
   {
    "duration": 490,
    "start_time": "2024-08-14T15:03:07.994Z"
   },
   {
    "duration": 7,
    "start_time": "2024-08-14T15:03:34.955Z"
   },
   {
    "duration": 926,
    "start_time": "2024-08-14T15:03:50.972Z"
   },
   {
    "duration": 657,
    "start_time": "2024-08-14T15:04:04.637Z"
   },
   {
    "duration": 609,
    "start_time": "2024-08-14T15:04:22.842Z"
   },
   {
    "duration": 659,
    "start_time": "2024-08-14T15:04:40.982Z"
   },
   {
    "duration": 1159,
    "start_time": "2024-08-14T15:04:48.043Z"
   },
   {
    "duration": 757,
    "start_time": "2024-08-14T15:04:56.573Z"
   },
   {
    "duration": 641,
    "start_time": "2024-08-14T15:05:10.829Z"
   },
   {
    "duration": 559,
    "start_time": "2024-08-14T15:05:21.134Z"
   },
   {
    "duration": 589,
    "start_time": "2024-08-14T15:05:27.535Z"
   },
   {
    "duration": 3306,
    "start_time": "2024-08-14T15:06:42.917Z"
   },
   {
    "duration": 3010,
    "start_time": "2024-08-14T15:07:05.913Z"
   },
   {
    "duration": 2736,
    "start_time": "2024-08-14T15:07:20.078Z"
   },
   {
    "duration": 3030,
    "start_time": "2024-08-14T15:07:33.318Z"
   },
   {
    "duration": 3648,
    "start_time": "2024-08-14T15:07:46.780Z"
   },
   {
    "duration": 3983,
    "start_time": "2024-08-14T15:08:05.414Z"
   },
   {
    "duration": 3756,
    "start_time": "2024-08-14T15:08:24.581Z"
   },
   {
    "duration": 100,
    "start_time": "2024-08-14T15:14:33.585Z"
   },
   {
    "duration": 6,
    "start_time": "2024-08-14T15:14:50.666Z"
   },
   {
    "duration": 59,
    "start_time": "2024-08-14T15:15:09.190Z"
   },
   {
    "duration": 10,
    "start_time": "2024-08-14T15:15:13.440Z"
   },
   {
    "duration": 6,
    "start_time": "2024-08-14T15:15:25.393Z"
   },
   {
    "duration": 895,
    "start_time": "2024-08-14T15:21:34.401Z"
   },
   {
    "duration": 5,
    "start_time": "2024-08-14T15:21:53.281Z"
   },
   {
    "duration": 13,
    "start_time": "2024-08-14T15:25:33.752Z"
   },
   {
    "duration": 13,
    "start_time": "2024-08-14T15:26:15.835Z"
   },
   {
    "duration": 14,
    "start_time": "2024-08-14T15:27:33.926Z"
   },
   {
    "duration": 12,
    "start_time": "2024-08-14T15:28:19.089Z"
   },
   {
    "duration": 12,
    "start_time": "2024-08-14T15:28:31.484Z"
   },
   {
    "duration": 10,
    "start_time": "2024-08-14T15:28:57.354Z"
   },
   {
    "duration": 11,
    "start_time": "2024-08-14T15:29:04.683Z"
   },
   {
    "duration": 12,
    "start_time": "2024-08-14T15:29:15.231Z"
   },
   {
    "duration": 13,
    "start_time": "2024-08-14T15:29:22.229Z"
   },
   {
    "duration": 11,
    "start_time": "2024-08-14T15:29:29.065Z"
   },
   {
    "duration": 54,
    "start_time": "2024-08-14T15:30:14.377Z"
   },
   {
    "duration": 11,
    "start_time": "2024-08-14T15:30:40.132Z"
   },
   {
    "duration": 12,
    "start_time": "2024-08-14T15:31:43.181Z"
   },
   {
    "duration": 11,
    "start_time": "2024-08-14T15:36:18.022Z"
   },
   {
    "duration": 11,
    "start_time": "2024-08-14T15:36:38.306Z"
   },
   {
    "duration": 14,
    "start_time": "2024-08-14T15:36:58.988Z"
   },
   {
    "duration": 13,
    "start_time": "2024-08-14T15:37:44.788Z"
   },
   {
    "duration": 11,
    "start_time": "2024-08-14T15:38:25.344Z"
   },
   {
    "duration": 12,
    "start_time": "2024-08-14T15:39:09.831Z"
   },
   {
    "duration": 12,
    "start_time": "2024-08-14T15:42:31.472Z"
   },
   {
    "duration": 11,
    "start_time": "2024-08-14T15:43:29.780Z"
   },
   {
    "duration": 10,
    "start_time": "2024-08-14T15:47:08.378Z"
   },
   {
    "duration": 1239,
    "start_time": "2024-08-14T17:08:58.691Z"
   },
   {
    "duration": 46,
    "start_time": "2024-08-14T17:08:59.932Z"
   },
   {
    "duration": 27,
    "start_time": "2024-08-14T17:08:59.980Z"
   },
   {
    "duration": 43,
    "start_time": "2024-08-14T17:09:00.009Z"
   },
   {
    "duration": 59,
    "start_time": "2024-08-14T17:09:00.054Z"
   },
   {
    "duration": 32,
    "start_time": "2024-08-14T17:09:00.115Z"
   },
   {
    "duration": 22,
    "start_time": "2024-08-14T17:09:00.149Z"
   },
   {
    "duration": 32,
    "start_time": "2024-08-14T17:09:00.173Z"
   },
   {
    "duration": 29,
    "start_time": "2024-08-14T17:09:00.207Z"
   },
   {
    "duration": 53,
    "start_time": "2024-08-14T17:09:00.240Z"
   },
   {
    "duration": 60,
    "start_time": "2024-08-14T17:09:00.295Z"
   },
   {
    "duration": 1593,
    "start_time": "2024-08-14T17:09:00.357Z"
   },
   {
    "duration": 15,
    "start_time": "2024-08-14T17:09:01.953Z"
   },
   {
    "duration": 35,
    "start_time": "2024-08-14T17:09:01.970Z"
   },
   {
    "duration": 21,
    "start_time": "2024-08-14T17:09:02.007Z"
   },
   {
    "duration": 26,
    "start_time": "2024-08-14T17:09:02.029Z"
   },
   {
    "duration": 30,
    "start_time": "2024-08-14T17:09:02.057Z"
   },
   {
    "duration": 40,
    "start_time": "2024-08-14T17:09:02.089Z"
   },
   {
    "duration": 379,
    "start_time": "2024-08-14T17:09:02.130Z"
   },
   {
    "duration": 471,
    "start_time": "2024-08-14T17:09:02.511Z"
   },
   {
    "duration": 402,
    "start_time": "2024-08-14T17:09:02.984Z"
   },
   {
    "duration": 305,
    "start_time": "2024-08-14T17:09:03.389Z"
   },
   {
    "duration": 11,
    "start_time": "2024-08-14T17:09:03.695Z"
   },
   {
    "duration": 4091,
    "start_time": "2024-08-14T17:09:03.709Z"
   },
   {
    "duration": 579,
    "start_time": "2024-08-14T17:09:07.803Z"
   },
   {
    "duration": 313,
    "start_time": "2024-08-14T17:09:08.384Z"
   },
   {
    "duration": 5,
    "start_time": "2024-08-14T17:09:08.698Z"
   },
   {
    "duration": 621,
    "start_time": "2024-08-14T17:09:08.707Z"
   },
   {
    "duration": 266,
    "start_time": "2024-08-14T17:09:09.329Z"
   },
   {
    "duration": 265,
    "start_time": "2024-08-14T17:09:09.598Z"
   },
   {
    "duration": 307,
    "start_time": "2024-08-14T17:09:09.865Z"
   },
   {
    "duration": 312,
    "start_time": "2024-08-14T17:09:10.173Z"
   },
   {
    "duration": 5,
    "start_time": "2024-08-14T17:09:10.487Z"
   },
   {
    "duration": 39,
    "start_time": "2024-08-14T17:09:10.494Z"
   },
   {
    "duration": 32,
    "start_time": "2024-08-14T17:09:10.535Z"
   },
   {
    "duration": 1559,
    "start_time": "2024-08-14T17:09:10.569Z"
   },
   {
    "duration": 12,
    "start_time": "2024-08-14T17:09:12.130Z"
   },
   {
    "duration": 11,
    "start_time": "2024-08-14T17:09:12.143Z"
   },
   {
    "duration": 26,
    "start_time": "2024-08-14T17:09:12.156Z"
   },
   {
    "duration": 9,
    "start_time": "2024-08-14T17:09:12.185Z"
   },
   {
    "duration": 9,
    "start_time": "2024-08-14T17:09:12.196Z"
   },
   {
    "duration": 15,
    "start_time": "2024-08-14T17:09:12.207Z"
   },
   {
    "duration": 13,
    "start_time": "2024-08-14T17:09:12.223Z"
   },
   {
    "duration": 56,
    "start_time": "2024-08-14T17:09:12.237Z"
   },
   {
    "duration": 12,
    "start_time": "2024-08-14T17:09:12.296Z"
   },
   {
    "duration": 1944,
    "start_time": "2024-08-14T19:15:46.929Z"
   },
   {
    "duration": 40,
    "start_time": "2024-08-14T19:15:48.875Z"
   },
   {
    "duration": 15,
    "start_time": "2024-08-14T19:15:48.917Z"
   },
   {
    "duration": 12,
    "start_time": "2024-08-14T19:15:48.934Z"
   },
   {
    "duration": 37,
    "start_time": "2024-08-14T19:15:48.948Z"
   },
   {
    "duration": 20,
    "start_time": "2024-08-14T19:15:48.986Z"
   },
   {
    "duration": 28,
    "start_time": "2024-08-14T19:15:49.008Z"
   },
   {
    "duration": 21,
    "start_time": "2024-08-14T19:15:49.038Z"
   },
   {
    "duration": 3,
    "start_time": "2024-08-14T19:15:49.060Z"
   },
   {
    "duration": 7,
    "start_time": "2024-08-14T19:15:49.064Z"
   },
   {
    "duration": 2,
    "start_time": "2024-08-14T19:15:49.073Z"
   },
   {
    "duration": 1516,
    "start_time": "2024-08-14T19:15:49.077Z"
   },
   {
    "duration": 10,
    "start_time": "2024-08-14T19:15:50.594Z"
   },
   {
    "duration": 6,
    "start_time": "2024-08-14T19:15:50.606Z"
   },
   {
    "duration": 39,
    "start_time": "2024-08-14T19:15:50.613Z"
   },
   {
    "duration": 10,
    "start_time": "2024-08-14T19:15:50.653Z"
   },
   {
    "duration": 11,
    "start_time": "2024-08-14T19:15:50.665Z"
   },
   {
    "duration": 11,
    "start_time": "2024-08-14T19:15:50.677Z"
   },
   {
    "duration": 354,
    "start_time": "2024-08-14T19:15:50.690Z"
   },
   {
    "duration": 410,
    "start_time": "2024-08-14T19:15:51.047Z"
   },
   {
    "duration": 356,
    "start_time": "2024-08-14T19:15:51.458Z"
   },
   {
    "duration": 318,
    "start_time": "2024-08-14T19:15:51.816Z"
   },
   {
    "duration": 18,
    "start_time": "2024-08-14T19:15:52.136Z"
   },
   {
    "duration": 3651,
    "start_time": "2024-08-14T19:15:52.156Z"
   },
   {
    "duration": 581,
    "start_time": "2024-08-14T19:15:55.809Z"
   },
   {
    "duration": 284,
    "start_time": "2024-08-14T19:15:56.392Z"
   },
   {
    "duration": 6,
    "start_time": "2024-08-14T19:15:56.677Z"
   },
   {
    "duration": 675,
    "start_time": "2024-08-14T19:15:56.684Z"
   },
   {
    "duration": 286,
    "start_time": "2024-08-14T19:15:57.361Z"
   },
   {
    "duration": 249,
    "start_time": "2024-08-14T19:15:57.649Z"
   },
   {
    "duration": 294,
    "start_time": "2024-08-14T19:15:57.900Z"
   },
   {
    "duration": 218,
    "start_time": "2024-08-14T19:15:58.196Z"
   },
   {
    "duration": 32,
    "start_time": "2024-08-14T19:15:58.416Z"
   },
   {
    "duration": 4,
    "start_time": "2024-08-14T19:15:58.450Z"
   },
   {
    "duration": 14,
    "start_time": "2024-08-14T19:15:58.456Z"
   },
   {
    "duration": 1434,
    "start_time": "2024-08-14T19:15:58.472Z"
   },
   {
    "duration": 13,
    "start_time": "2024-08-14T19:15:59.908Z"
   },
   {
    "duration": 26,
    "start_time": "2024-08-14T19:15:59.922Z"
   },
   {
    "duration": 6,
    "start_time": "2024-08-14T19:15:59.950Z"
   },
   {
    "duration": 9,
    "start_time": "2024-08-14T19:15:59.958Z"
   },
   {
    "duration": 7,
    "start_time": "2024-08-14T19:15:59.972Z"
   },
   {
    "duration": 14,
    "start_time": "2024-08-14T19:15:59.980Z"
   },
   {
    "duration": 12,
    "start_time": "2024-08-14T19:15:59.995Z"
   },
   {
    "duration": 50,
    "start_time": "2024-08-14T19:16:00.009Z"
   },
   {
    "duration": 42,
    "start_time": "2024-08-14T19:16:00.061Z"
   }
  ],
  "kernelspec": {
   "display_name": "Python 3 (ipykernel)",
   "language": "python",
   "name": "python3"
  },
  "language_info": {
   "codemirror_mode": {
    "name": "ipython",
    "version": 3
   },
   "file_extension": ".py",
   "mimetype": "text/x-python",
   "name": "python",
   "nbconvert_exporter": "python",
   "pygments_lexer": "ipython3",
   "version": "3.9.5"
  },
  "toc": {
   "base_numbering": 1,
   "nav_menu": {},
   "number_sections": true,
   "sideBar": true,
   "skip_h1_title": true,
   "title_cell": "Table of Contents",
   "title_sidebar": "Contents",
   "toc_cell": false,
   "toc_position": {
    "height": "calc(100% - 180px)",
    "left": "10px",
    "top": "150px",
    "width": "374.391px"
   },
   "toc_section_display": true,
   "toc_window_display": true
  }
 },
 "nbformat": 4,
 "nbformat_minor": 2
}
